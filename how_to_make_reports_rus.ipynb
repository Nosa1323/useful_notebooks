{
  "nbformat": 4,
  "nbformat_minor": 0,
  "metadata": {
    "colab": {
      "name": "how-to-make-reports-rus.ipynb",
      "provenance": [],
      "collapsed_sections": [],
      "include_colab_link": true
    },
    "kernelspec": {
      "name": "python3",
      "display_name": "Python 3"
    }
  },
  "cells": [
    {
      "cell_type": "markdown",
      "metadata": {
        "id": "view-in-github",
        "colab_type": "text"
      },
      "source": [
        "<a href=\"https://colab.research.google.com/github/Nosa1323/useful_notebooks/blob/main/how_to_make_reports_rus.ipynb\" target=\"_parent\"><img src=\"https://colab.research.google.com/assets/colab-badge.svg\" alt=\"Open In Colab\"/></a>"
      ]
    },
    {
      "cell_type": "markdown",
      "metadata": {
        "id": "_JwdIdjSAuc9"
      },
      "source": [
        "# Как делать отчеты из транзакционных данных"
      ]
    },
    {
      "cell_type": "markdown",
      "metadata": {
        "id": "aYPHfyKekPji"
      },
      "source": [
        "by Gleb Mikhaylov, мой канал в тг https://t.me/mikhaylovgleb"
      ]
    },
    {
      "cell_type": "markdown",
      "metadata": {
        "id": "ZqzVSCfaA5Zm"
      },
      "source": [
        "Я буду использовать https://www.kaggle.com/carrie1/ecommerce-data . Я залил их на свой гугл диск, и тут скачиваю по ссылке, так что все работает сразу, можно поиграть, покрутить"
      ]
    },
    {
      "cell_type": "markdown",
      "metadata": {
        "id": "7udQXGdvkutT"
      },
      "source": [
        "https://drive.google.com/file/d/1AclnBOt1YoCoJTxNtIlhVhrPRD0b8DTB/view?usp=sharing"
      ]
    },
    {
      "cell_type": "code",
      "metadata": {
        "id": "BJINZTbkCKoA"
      },
      "source": [
        "import pandas as pd\n",
        "import numpy as np"
      ],
      "execution_count": null,
      "outputs": []
    },
    {
      "cell_type": "code",
      "metadata": {
        "colab": {
          "base_uri": "https://localhost:8080/"
        },
        "id": "KgefvMUNkslc",
        "outputId": "d9d8067b-1446-4392-bd89-92c0ad35e8f9"
      },
      "source": [
        "! gdown --id 1AclnBOt1YoCoJTxNtIlhVhrPRD0b8DTB"
      ],
      "execution_count": null,
      "outputs": [
        {
          "output_type": "stream",
          "text": [
            "Downloading...\n",
            "From: https://drive.google.com/uc?id=1AclnBOt1YoCoJTxNtIlhVhrPRD0b8DTB\n",
            "To: /content/ecommerce-data.zip\n",
            "7.55MB [00:00, 35.2MB/s]\n"
          ],
          "name": "stdout"
        }
      ]
    },
    {
      "cell_type": "code",
      "metadata": {
        "id": "fGOd_xdSBPv6"
      },
      "source": [
        "df = pd.read_csv('ecommerce-data.zip',encoding='ISO-8859-1')"
      ],
      "execution_count": null,
      "outputs": []
    },
    {
      "cell_type": "code",
      "metadata": {
        "id": "YQfFlhYsCSin",
        "colab": {
          "base_uri": "https://localhost:8080/",
          "height": 206
        },
        "outputId": "fc691b77-d597-47da-e302-8dcd6680f75d"
      },
      "source": [
        "df.head()"
      ],
      "execution_count": null,
      "outputs": [
        {
          "output_type": "execute_result",
          "data": {
            "text/html": [
              "<div>\n",
              "<style scoped>\n",
              "    .dataframe tbody tr th:only-of-type {\n",
              "        vertical-align: middle;\n",
              "    }\n",
              "\n",
              "    .dataframe tbody tr th {\n",
              "        vertical-align: top;\n",
              "    }\n",
              "\n",
              "    .dataframe thead th {\n",
              "        text-align: right;\n",
              "    }\n",
              "</style>\n",
              "<table border=\"1\" class=\"dataframe\">\n",
              "  <thead>\n",
              "    <tr style=\"text-align: right;\">\n",
              "      <th></th>\n",
              "      <th>InvoiceNo</th>\n",
              "      <th>StockCode</th>\n",
              "      <th>Description</th>\n",
              "      <th>Quantity</th>\n",
              "      <th>InvoiceDate</th>\n",
              "      <th>UnitPrice</th>\n",
              "      <th>CustomerID</th>\n",
              "      <th>Country</th>\n",
              "    </tr>\n",
              "  </thead>\n",
              "  <tbody>\n",
              "    <tr>\n",
              "      <th>0</th>\n",
              "      <td>536365</td>\n",
              "      <td>85123A</td>\n",
              "      <td>WHITE HANGING HEART T-LIGHT HOLDER</td>\n",
              "      <td>6</td>\n",
              "      <td>12/1/2010 8:26</td>\n",
              "      <td>2.55</td>\n",
              "      <td>17850.0</td>\n",
              "      <td>United Kingdom</td>\n",
              "    </tr>\n",
              "    <tr>\n",
              "      <th>1</th>\n",
              "      <td>536365</td>\n",
              "      <td>71053</td>\n",
              "      <td>WHITE METAL LANTERN</td>\n",
              "      <td>6</td>\n",
              "      <td>12/1/2010 8:26</td>\n",
              "      <td>3.39</td>\n",
              "      <td>17850.0</td>\n",
              "      <td>United Kingdom</td>\n",
              "    </tr>\n",
              "    <tr>\n",
              "      <th>2</th>\n",
              "      <td>536365</td>\n",
              "      <td>84406B</td>\n",
              "      <td>CREAM CUPID HEARTS COAT HANGER</td>\n",
              "      <td>8</td>\n",
              "      <td>12/1/2010 8:26</td>\n",
              "      <td>2.75</td>\n",
              "      <td>17850.0</td>\n",
              "      <td>United Kingdom</td>\n",
              "    </tr>\n",
              "    <tr>\n",
              "      <th>3</th>\n",
              "      <td>536365</td>\n",
              "      <td>84029G</td>\n",
              "      <td>KNITTED UNION FLAG HOT WATER BOTTLE</td>\n",
              "      <td>6</td>\n",
              "      <td>12/1/2010 8:26</td>\n",
              "      <td>3.39</td>\n",
              "      <td>17850.0</td>\n",
              "      <td>United Kingdom</td>\n",
              "    </tr>\n",
              "    <tr>\n",
              "      <th>4</th>\n",
              "      <td>536365</td>\n",
              "      <td>84029E</td>\n",
              "      <td>RED WOOLLY HOTTIE WHITE HEART.</td>\n",
              "      <td>6</td>\n",
              "      <td>12/1/2010 8:26</td>\n",
              "      <td>3.39</td>\n",
              "      <td>17850.0</td>\n",
              "      <td>United Kingdom</td>\n",
              "    </tr>\n",
              "  </tbody>\n",
              "</table>\n",
              "</div>"
            ],
            "text/plain": [
              "  InvoiceNo StockCode  ... CustomerID         Country\n",
              "0    536365    85123A  ...    17850.0  United Kingdom\n",
              "1    536365     71053  ...    17850.0  United Kingdom\n",
              "2    536365    84406B  ...    17850.0  United Kingdom\n",
              "3    536365    84029G  ...    17850.0  United Kingdom\n",
              "4    536365    84029E  ...    17850.0  United Kingdom\n",
              "\n",
              "[5 rows x 8 columns]"
            ]
          },
          "metadata": {
            "tags": []
          },
          "execution_count": 4
        }
      ]
    },
    {
      "cell_type": "code",
      "metadata": {
        "id": "IP-C0rx_kCpd"
      },
      "source": [
        ""
      ],
      "execution_count": null,
      "outputs": []
    },
    {
      "cell_type": "markdown",
      "metadata": {
        "id": "VW0Ra5_OCgHX"
      },
      "source": [
        "Вот, тут транзакции по пользователям. Они покупают какие-то товары. Посмотрим какой тут временной промежуток. И переведем дату из строки в формат даты"
      ]
    },
    {
      "cell_type": "code",
      "metadata": {
        "id": "V_MXKjipCcA6"
      },
      "source": [
        "df['InvoiceDate'] = pd.to_datetime(df['InvoiceDate'],format='%m/%d/%Y %H:%M')"
      ],
      "execution_count": null,
      "outputs": []
    },
    {
      "cell_type": "code",
      "metadata": {
        "id": "SzkfDbtdDQQS",
        "colab": {
          "base_uri": "https://localhost:8080/"
        },
        "outputId": "7db605aa-8465-4496-875b-ab9cfb377736"
      },
      "source": [
        "df['InvoiceDate'].min()"
      ],
      "execution_count": null,
      "outputs": [
        {
          "output_type": "execute_result",
          "data": {
            "text/plain": [
              "Timestamp('2010-12-01 08:26:00')"
            ]
          },
          "metadata": {
            "tags": []
          },
          "execution_count": 10
        }
      ]
    },
    {
      "cell_type": "code",
      "metadata": {
        "id": "sQgfupEcDXiG",
        "colab": {
          "base_uri": "https://localhost:8080/"
        },
        "outputId": "66f4642a-ba6e-43f9-cf38-677bb6a1a510"
      },
      "source": [
        "df['InvoiceDate'].max()"
      ],
      "execution_count": null,
      "outputs": [
        {
          "output_type": "execute_result",
          "data": {
            "text/plain": [
              "Timestamp('2011-12-09 12:50:00')"
            ]
          },
          "metadata": {
            "tags": []
          },
          "execution_count": 11
        }
      ]
    },
    {
      "cell_type": "markdown",
      "metadata": {
        "id": "VQUJHbApDbA5"
      },
      "source": [
        "Примерно год. Теперь я хочу сделать отчет по продажам на каждый месяц."
      ]
    },
    {
      "cell_type": "markdown",
      "metadata": {
        "id": "QqklNmq7Djgw"
      },
      "source": [
        "# 1. Создай таблицу с уникальными юзерами\n",
        "\n",
        "В реальной жизни такая таблица обычно имеется сразу и можно ей пользоваться. Здесь у нас такой нет -- создадим сами. Но сначала чекнем пропущенные значения."
      ]
    },
    {
      "cell_type": "code",
      "metadata": {
        "id": "4pA7BsL89hbj",
        "colab": {
          "base_uri": "https://localhost:8080/"
        },
        "outputId": "f37dbf28-f773-4c71-adbe-7a0f2bfd8bfb"
      },
      "source": [
        "df.isna().mean()"
      ],
      "execution_count": null,
      "outputs": [
        {
          "output_type": "execute_result",
          "data": {
            "text/plain": [
              "InvoiceNo      0.000000\n",
              "StockCode      0.000000\n",
              "Description    0.002683\n",
              "Quantity       0.000000\n",
              "InvoiceDate    0.000000\n",
              "UnitPrice      0.000000\n",
              "CustomerID     0.249267\n",
              "Country        0.000000\n",
              "dtype: float64"
            ]
          },
          "metadata": {
            "tags": []
          },
          "execution_count": 12
        }
      ]
    },
    {
      "cell_type": "markdown",
      "metadata": {
        "id": "2QrR58Ur9u6d"
      },
      "source": [
        "У нас куча юзеров не заполнена. Если делать груп бай по NaN, то NaN просто не учитывается. Нам это не подходит. По этому заполним пропущенных юзеров значением -999999. Считай это технической заменой, чтобы этот юзер отображался в сводниках."
      ]
    },
    {
      "cell_type": "code",
      "metadata": {
        "id": "QA2uGFxL-Fbf"
      },
      "source": [
        "df['CustomerID'] = df['CustomerID'].fillna(-999999)"
      ],
      "execution_count": null,
      "outputs": []
    },
    {
      "cell_type": "code",
      "metadata": {
        "id": "wg4nCzgyDYXw"
      },
      "source": [
        "user = df.groupby(['CustomerID'])['InvoiceDate'].min().reset_index()"
      ],
      "execution_count": null,
      "outputs": []
    },
    {
      "cell_type": "code",
      "metadata": {
        "id": "maFKB3LfEFCk",
        "colab": {
          "base_uri": "https://localhost:8080/",
          "height": 195
        },
        "outputId": "01ec4660-2c8a-4b64-df80-9c24f28b1e71"
      },
      "source": [
        "user.head()"
      ],
      "execution_count": null,
      "outputs": [
        {
          "output_type": "execute_result",
          "data": {
            "text/html": [
              "<div>\n",
              "<style scoped>\n",
              "    .dataframe tbody tr th:only-of-type {\n",
              "        vertical-align: middle;\n",
              "    }\n",
              "\n",
              "    .dataframe tbody tr th {\n",
              "        vertical-align: top;\n",
              "    }\n",
              "\n",
              "    .dataframe thead th {\n",
              "        text-align: right;\n",
              "    }\n",
              "</style>\n",
              "<table border=\"1\" class=\"dataframe\">\n",
              "  <thead>\n",
              "    <tr style=\"text-align: right;\">\n",
              "      <th></th>\n",
              "      <th>CustomerID</th>\n",
              "      <th>InvoiceDate</th>\n",
              "    </tr>\n",
              "  </thead>\n",
              "  <tbody>\n",
              "    <tr>\n",
              "      <th>0</th>\n",
              "      <td>-999999.0</td>\n",
              "      <td>2010-12-01 11:52:00</td>\n",
              "    </tr>\n",
              "    <tr>\n",
              "      <th>1</th>\n",
              "      <td>12346.0</td>\n",
              "      <td>2011-01-18 10:01:00</td>\n",
              "    </tr>\n",
              "    <tr>\n",
              "      <th>2</th>\n",
              "      <td>12347.0</td>\n",
              "      <td>2010-12-07 14:57:00</td>\n",
              "    </tr>\n",
              "    <tr>\n",
              "      <th>3</th>\n",
              "      <td>12348.0</td>\n",
              "      <td>2010-12-16 19:09:00</td>\n",
              "    </tr>\n",
              "    <tr>\n",
              "      <th>4</th>\n",
              "      <td>12349.0</td>\n",
              "      <td>2011-11-21 09:51:00</td>\n",
              "    </tr>\n",
              "  </tbody>\n",
              "</table>\n",
              "</div>"
            ],
            "text/plain": [
              "   CustomerID         InvoiceDate\n",
              "0   -999999.0 2010-12-01 11:52:00\n",
              "1     12346.0 2011-01-18 10:01:00\n",
              "2     12347.0 2010-12-07 14:57:00\n",
              "3     12348.0 2010-12-16 19:09:00\n",
              "4     12349.0 2011-11-21 09:51:00"
            ]
          },
          "metadata": {
            "tags": []
          },
          "execution_count": 15
        }
      ]
    },
    {
      "cell_type": "code",
      "metadata": {
        "id": "X0Ve_SO5EK7y"
      },
      "source": [
        "user.columns = ['CustomerID','reg_date']"
      ],
      "execution_count": null,
      "outputs": []
    },
    {
      "cell_type": "code",
      "metadata": {
        "id": "Y4VSHcpOESVY"
      },
      "source": [
        "user['reg_month'] = user['reg_date'].values.astype('datetime64[M]')"
      ],
      "execution_count": null,
      "outputs": []
    },
    {
      "cell_type": "markdown",
      "metadata": {
        "id": "M-1l4GE6ExaW"
      },
      "source": [
        "Темная магия). На самом деле просто первая выдача гугла по запросу \"pandas how to get first day of month\" https://stackoverflow.com/questions/45304531/extracting-the-first-day-of-month-of-a-datetime-type-column-in-pandas\n",
        "\n"
      ]
    },
    {
      "cell_type": "code",
      "metadata": {
        "id": "8b9X93aZEpQz",
        "colab": {
          "base_uri": "https://localhost:8080/",
          "height": 402
        },
        "outputId": "30f91463-2a9e-4353-b415-4e4af0fb4b2d"
      },
      "source": [
        "user"
      ],
      "execution_count": null,
      "outputs": [
        {
          "output_type": "execute_result",
          "data": {
            "text/html": [
              "<div>\n",
              "<style scoped>\n",
              "    .dataframe tbody tr th:only-of-type {\n",
              "        vertical-align: middle;\n",
              "    }\n",
              "\n",
              "    .dataframe tbody tr th {\n",
              "        vertical-align: top;\n",
              "    }\n",
              "\n",
              "    .dataframe thead th {\n",
              "        text-align: right;\n",
              "    }\n",
              "</style>\n",
              "<table border=\"1\" class=\"dataframe\">\n",
              "  <thead>\n",
              "    <tr style=\"text-align: right;\">\n",
              "      <th></th>\n",
              "      <th>CustomerID</th>\n",
              "      <th>reg_date</th>\n",
              "      <th>reg_month</th>\n",
              "    </tr>\n",
              "  </thead>\n",
              "  <tbody>\n",
              "    <tr>\n",
              "      <th>0</th>\n",
              "      <td>-999999.0</td>\n",
              "      <td>2010-12-01 11:52:00</td>\n",
              "      <td>2010-12-01</td>\n",
              "    </tr>\n",
              "    <tr>\n",
              "      <th>1</th>\n",
              "      <td>12346.0</td>\n",
              "      <td>2011-01-18 10:01:00</td>\n",
              "      <td>2011-01-01</td>\n",
              "    </tr>\n",
              "    <tr>\n",
              "      <th>2</th>\n",
              "      <td>12347.0</td>\n",
              "      <td>2010-12-07 14:57:00</td>\n",
              "      <td>2010-12-01</td>\n",
              "    </tr>\n",
              "    <tr>\n",
              "      <th>3</th>\n",
              "      <td>12348.0</td>\n",
              "      <td>2010-12-16 19:09:00</td>\n",
              "      <td>2010-12-01</td>\n",
              "    </tr>\n",
              "    <tr>\n",
              "      <th>4</th>\n",
              "      <td>12349.0</td>\n",
              "      <td>2011-11-21 09:51:00</td>\n",
              "      <td>2011-11-01</td>\n",
              "    </tr>\n",
              "    <tr>\n",
              "      <th>...</th>\n",
              "      <td>...</td>\n",
              "      <td>...</td>\n",
              "      <td>...</td>\n",
              "    </tr>\n",
              "    <tr>\n",
              "      <th>4368</th>\n",
              "      <td>18280.0</td>\n",
              "      <td>2011-03-07 09:52:00</td>\n",
              "      <td>2011-03-01</td>\n",
              "    </tr>\n",
              "    <tr>\n",
              "      <th>4369</th>\n",
              "      <td>18281.0</td>\n",
              "      <td>2011-06-12 10:53:00</td>\n",
              "      <td>2011-06-01</td>\n",
              "    </tr>\n",
              "    <tr>\n",
              "      <th>4370</th>\n",
              "      <td>18282.0</td>\n",
              "      <td>2011-08-05 13:35:00</td>\n",
              "      <td>2011-08-01</td>\n",
              "    </tr>\n",
              "    <tr>\n",
              "      <th>4371</th>\n",
              "      <td>18283.0</td>\n",
              "      <td>2011-01-06 14:14:00</td>\n",
              "      <td>2011-01-01</td>\n",
              "    </tr>\n",
              "    <tr>\n",
              "      <th>4372</th>\n",
              "      <td>18287.0</td>\n",
              "      <td>2011-05-22 10:39:00</td>\n",
              "      <td>2011-05-01</td>\n",
              "    </tr>\n",
              "  </tbody>\n",
              "</table>\n",
              "<p>4373 rows × 3 columns</p>\n",
              "</div>"
            ],
            "text/plain": [
              "      CustomerID            reg_date  reg_month\n",
              "0      -999999.0 2010-12-01 11:52:00 2010-12-01\n",
              "1        12346.0 2011-01-18 10:01:00 2011-01-01\n",
              "2        12347.0 2010-12-07 14:57:00 2010-12-01\n",
              "3        12348.0 2010-12-16 19:09:00 2010-12-01\n",
              "4        12349.0 2011-11-21 09:51:00 2011-11-01\n",
              "...          ...                 ...        ...\n",
              "4368     18280.0 2011-03-07 09:52:00 2011-03-01\n",
              "4369     18281.0 2011-06-12 10:53:00 2011-06-01\n",
              "4370     18282.0 2011-08-05 13:35:00 2011-08-01\n",
              "4371     18283.0 2011-01-06 14:14:00 2011-01-01\n",
              "4372     18287.0 2011-05-22 10:39:00 2011-05-01\n",
              "\n",
              "[4373 rows x 3 columns]"
            ]
          },
          "metadata": {
            "tags": []
          },
          "execution_count": 18
        }
      ]
    },
    {
      "cell_type": "markdown",
      "metadata": {
        "id": "7idR_SVVFFGp"
      },
      "source": [
        "# 2. Сгенерируй таблицу где на каждого юзера будет каждый месяц\n"
      ]
    },
    {
      "cell_type": "code",
      "metadata": {
        "id": "rnoUTD96EvbC"
      },
      "source": [
        "min_month = df['InvoiceDate'].values.astype('datetime64[M]').min()"
      ],
      "execution_count": null,
      "outputs": []
    },
    {
      "cell_type": "code",
      "metadata": {
        "id": "--EryeA4Fxlg"
      },
      "source": [
        "max_month = df['InvoiceDate'].values.astype('datetime64[M]').max()"
      ],
      "execution_count": null,
      "outputs": []
    },
    {
      "cell_type": "code",
      "metadata": {
        "id": "_HfzD9DYF3KL",
        "colab": {
          "base_uri": "https://localhost:8080/"
        },
        "outputId": "dbc6ae86-3528-4048-b632-29f0da681ac3"
      },
      "source": [
        "(min_month, max_month)"
      ],
      "execution_count": null,
      "outputs": [
        {
          "output_type": "execute_result",
          "data": {
            "text/plain": [
              "(numpy.datetime64('2010-12'), numpy.datetime64('2011-12'))"
            ]
          },
          "metadata": {
            "tags": []
          },
          "execution_count": 21
        }
      ]
    },
    {
      "cell_type": "code",
      "metadata": {
        "id": "EiZ3v9g-F44e",
        "colab": {
          "base_uri": "https://localhost:8080/"
        },
        "outputId": "dcb60946-c0a0-4027-c3a4-9d3144502d1b"
      },
      "source": [
        "pd.date_range(min_month,max_month,freq='MS')"
      ],
      "execution_count": null,
      "outputs": [
        {
          "output_type": "execute_result",
          "data": {
            "text/plain": [
              "DatetimeIndex(['2010-12-01', '2011-01-01', '2011-02-01', '2011-03-01',\n",
              "               '2011-04-01', '2011-05-01', '2011-06-01', '2011-07-01',\n",
              "               '2011-08-01', '2011-09-01', '2011-10-01', '2011-11-01',\n",
              "               '2011-12-01'],\n",
              "              dtype='datetime64[ns]', freq='MS')"
            ]
          },
          "metadata": {
            "tags": []
          },
          "execution_count": 22
        }
      ]
    },
    {
      "cell_type": "code",
      "metadata": {
        "id": "cnGWJaecGICM"
      },
      "source": [
        "dr = pd.DataFrame(pd.date_range(min_month,max_month,freq='MS'))"
      ],
      "execution_count": null,
      "outputs": []
    },
    {
      "cell_type": "code",
      "metadata": {
        "id": "b4y8pOalHNK4",
        "colab": {
          "base_uri": "https://localhost:8080/",
          "height": 432
        },
        "outputId": "9dd0107c-96c0-4701-af20-0326c27648ca"
      },
      "source": [
        "dr"
      ],
      "execution_count": null,
      "outputs": [
        {
          "output_type": "execute_result",
          "data": {
            "text/html": [
              "<div>\n",
              "<style scoped>\n",
              "    .dataframe tbody tr th:only-of-type {\n",
              "        vertical-align: middle;\n",
              "    }\n",
              "\n",
              "    .dataframe tbody tr th {\n",
              "        vertical-align: top;\n",
              "    }\n",
              "\n",
              "    .dataframe thead th {\n",
              "        text-align: right;\n",
              "    }\n",
              "</style>\n",
              "<table border=\"1\" class=\"dataframe\">\n",
              "  <thead>\n",
              "    <tr style=\"text-align: right;\">\n",
              "      <th></th>\n",
              "      <th>0</th>\n",
              "    </tr>\n",
              "  </thead>\n",
              "  <tbody>\n",
              "    <tr>\n",
              "      <th>0</th>\n",
              "      <td>2010-12-01</td>\n",
              "    </tr>\n",
              "    <tr>\n",
              "      <th>1</th>\n",
              "      <td>2011-01-01</td>\n",
              "    </tr>\n",
              "    <tr>\n",
              "      <th>2</th>\n",
              "      <td>2011-02-01</td>\n",
              "    </tr>\n",
              "    <tr>\n",
              "      <th>3</th>\n",
              "      <td>2011-03-01</td>\n",
              "    </tr>\n",
              "    <tr>\n",
              "      <th>4</th>\n",
              "      <td>2011-04-01</td>\n",
              "    </tr>\n",
              "    <tr>\n",
              "      <th>5</th>\n",
              "      <td>2011-05-01</td>\n",
              "    </tr>\n",
              "    <tr>\n",
              "      <th>6</th>\n",
              "      <td>2011-06-01</td>\n",
              "    </tr>\n",
              "    <tr>\n",
              "      <th>7</th>\n",
              "      <td>2011-07-01</td>\n",
              "    </tr>\n",
              "    <tr>\n",
              "      <th>8</th>\n",
              "      <td>2011-08-01</td>\n",
              "    </tr>\n",
              "    <tr>\n",
              "      <th>9</th>\n",
              "      <td>2011-09-01</td>\n",
              "    </tr>\n",
              "    <tr>\n",
              "      <th>10</th>\n",
              "      <td>2011-10-01</td>\n",
              "    </tr>\n",
              "    <tr>\n",
              "      <th>11</th>\n",
              "      <td>2011-11-01</td>\n",
              "    </tr>\n",
              "    <tr>\n",
              "      <th>12</th>\n",
              "      <td>2011-12-01</td>\n",
              "    </tr>\n",
              "  </tbody>\n",
              "</table>\n",
              "</div>"
            ],
            "text/plain": [
              "            0\n",
              "0  2010-12-01\n",
              "1  2011-01-01\n",
              "2  2011-02-01\n",
              "3  2011-03-01\n",
              "4  2011-04-01\n",
              "5  2011-05-01\n",
              "6  2011-06-01\n",
              "7  2011-07-01\n",
              "8  2011-08-01\n",
              "9  2011-09-01\n",
              "10 2011-10-01\n",
              "11 2011-11-01\n",
              "12 2011-12-01"
            ]
          },
          "metadata": {
            "tags": []
          },
          "execution_count": 24
        }
      ]
    },
    {
      "cell_type": "code",
      "metadata": {
        "id": "AWbKbYtBHRGv"
      },
      "source": [
        "dr.columns = ['month']"
      ],
      "execution_count": null,
      "outputs": []
    },
    {
      "cell_type": "markdown",
      "metadata": {
        "id": "vERQlQjuGqYw"
      },
      "source": [
        "Теперь надо сделать крос джоин. Должно получиться\n"
      ]
    },
    {
      "cell_type": "code",
      "metadata": {
        "id": "cxdFmeoXGofd",
        "colab": {
          "base_uri": "https://localhost:8080/"
        },
        "outputId": "7881ec25-7354-4bae-f4d8-dc86ee670a22"
      },
      "source": [
        "len(user)*len(dr)"
      ],
      "execution_count": null,
      "outputs": [
        {
          "output_type": "execute_result",
          "data": {
            "text/plain": [
              "56849"
            ]
          },
          "metadata": {
            "tags": []
          },
          "execution_count": 26
        }
      ]
    },
    {
      "cell_type": "markdown",
      "metadata": {
        "id": "ccJVBdXmG4Fg"
      },
      "source": [
        "строк. В пандас крос джоин делается так"
      ]
    },
    {
      "cell_type": "code",
      "metadata": {
        "id": "F2u6L7xOGzbL"
      },
      "source": [
        "dr['key'] = 1\n",
        "user['key'] = 1"
      ],
      "execution_count": null,
      "outputs": []
    },
    {
      "cell_type": "code",
      "metadata": {
        "id": "8yKBkhPFHC71"
      },
      "source": [
        "report = dr.merge(user,on='key')"
      ],
      "execution_count": null,
      "outputs": []
    },
    {
      "cell_type": "code",
      "metadata": {
        "id": "B58ky1plHjm7",
        "colab": {
          "base_uri": "https://localhost:8080/",
          "height": 195
        },
        "outputId": "a5d7a9dd-0771-42d7-c97e-cef28cf7e4bf"
      },
      "source": [
        "report.head()"
      ],
      "execution_count": null,
      "outputs": [
        {
          "output_type": "execute_result",
          "data": {
            "text/html": [
              "<div>\n",
              "<style scoped>\n",
              "    .dataframe tbody tr th:only-of-type {\n",
              "        vertical-align: middle;\n",
              "    }\n",
              "\n",
              "    .dataframe tbody tr th {\n",
              "        vertical-align: top;\n",
              "    }\n",
              "\n",
              "    .dataframe thead th {\n",
              "        text-align: right;\n",
              "    }\n",
              "</style>\n",
              "<table border=\"1\" class=\"dataframe\">\n",
              "  <thead>\n",
              "    <tr style=\"text-align: right;\">\n",
              "      <th></th>\n",
              "      <th>month</th>\n",
              "      <th>key</th>\n",
              "      <th>CustomerID</th>\n",
              "      <th>reg_date</th>\n",
              "      <th>reg_month</th>\n",
              "    </tr>\n",
              "  </thead>\n",
              "  <tbody>\n",
              "    <tr>\n",
              "      <th>0</th>\n",
              "      <td>2010-12-01</td>\n",
              "      <td>1</td>\n",
              "      <td>-999999.0</td>\n",
              "      <td>2010-12-01 11:52:00</td>\n",
              "      <td>2010-12-01</td>\n",
              "    </tr>\n",
              "    <tr>\n",
              "      <th>1</th>\n",
              "      <td>2010-12-01</td>\n",
              "      <td>1</td>\n",
              "      <td>12346.0</td>\n",
              "      <td>2011-01-18 10:01:00</td>\n",
              "      <td>2011-01-01</td>\n",
              "    </tr>\n",
              "    <tr>\n",
              "      <th>2</th>\n",
              "      <td>2010-12-01</td>\n",
              "      <td>1</td>\n",
              "      <td>12347.0</td>\n",
              "      <td>2010-12-07 14:57:00</td>\n",
              "      <td>2010-12-01</td>\n",
              "    </tr>\n",
              "    <tr>\n",
              "      <th>3</th>\n",
              "      <td>2010-12-01</td>\n",
              "      <td>1</td>\n",
              "      <td>12348.0</td>\n",
              "      <td>2010-12-16 19:09:00</td>\n",
              "      <td>2010-12-01</td>\n",
              "    </tr>\n",
              "    <tr>\n",
              "      <th>4</th>\n",
              "      <td>2010-12-01</td>\n",
              "      <td>1</td>\n",
              "      <td>12349.0</td>\n",
              "      <td>2011-11-21 09:51:00</td>\n",
              "      <td>2011-11-01</td>\n",
              "    </tr>\n",
              "  </tbody>\n",
              "</table>\n",
              "</div>"
            ],
            "text/plain": [
              "       month  key  CustomerID            reg_date  reg_month\n",
              "0 2010-12-01    1   -999999.0 2010-12-01 11:52:00 2010-12-01\n",
              "1 2010-12-01    1     12346.0 2011-01-18 10:01:00 2011-01-01\n",
              "2 2010-12-01    1     12347.0 2010-12-07 14:57:00 2010-12-01\n",
              "3 2010-12-01    1     12348.0 2010-12-16 19:09:00 2010-12-01\n",
              "4 2010-12-01    1     12349.0 2011-11-21 09:51:00 2011-11-01"
            ]
          },
          "metadata": {
            "tags": []
          },
          "execution_count": 29
        }
      ]
    },
    {
      "cell_type": "code",
      "metadata": {
        "id": "KvVRfoKjHluF",
        "colab": {
          "base_uri": "https://localhost:8080/"
        },
        "outputId": "42db5298-9d10-44d1-ea4f-9439d1ba48c9"
      },
      "source": [
        "len(report)"
      ],
      "execution_count": null,
      "outputs": [
        {
          "output_type": "execute_result",
          "data": {
            "text/plain": [
              "56849"
            ]
          },
          "metadata": {
            "tags": []
          },
          "execution_count": 30
        }
      ]
    },
    {
      "cell_type": "markdown",
      "metadata": {
        "id": "IP9IGsO_HpXO"
      },
      "source": [
        "Как и ожидали. Но у нас есть пользователи которые пришли после минимальной даты (2010-12) и тупо хранить по ним строчки за тот период пока их с нами не было"
      ]
    },
    {
      "cell_type": "code",
      "metadata": {
        "id": "4xMWu7ZNHnuq",
        "colab": {
          "base_uri": "https://localhost:8080/"
        },
        "outputId": "0fb84776-37cb-4fdc-f78f-72a3f16e12c2"
      },
      "source": [
        "len(report[report['month']>=report['reg_month']])"
      ],
      "execution_count": null,
      "outputs": [
        {
          "output_type": "execute_result",
          "data": {
            "text/plain": [
              "37449"
            ]
          },
          "metadata": {
            "tags": []
          },
          "execution_count": 31
        }
      ]
    },
    {
      "cell_type": "code",
      "metadata": {
        "id": "RdOL1cwVIORC"
      },
      "source": [
        "report = report[report['month']>=report['reg_month']]"
      ],
      "execution_count": null,
      "outputs": []
    },
    {
      "cell_type": "markdown",
      "metadata": {
        "id": "Ba9BeMFyIYCk"
      },
      "source": [
        "Посмотрим на отдельного юзера"
      ]
    },
    {
      "cell_type": "code",
      "metadata": {
        "id": "XPScDz0mIW_f",
        "colab": {
          "base_uri": "https://localhost:8080/",
          "height": 402
        },
        "outputId": "5326c3b4-473b-41c9-e0c4-19469591d6f4"
      },
      "source": [
        "report[report['CustomerID'] == 12346.0]"
      ],
      "execution_count": null,
      "outputs": [
        {
          "output_type": "execute_result",
          "data": {
            "text/html": [
              "<div>\n",
              "<style scoped>\n",
              "    .dataframe tbody tr th:only-of-type {\n",
              "        vertical-align: middle;\n",
              "    }\n",
              "\n",
              "    .dataframe tbody tr th {\n",
              "        vertical-align: top;\n",
              "    }\n",
              "\n",
              "    .dataframe thead th {\n",
              "        text-align: right;\n",
              "    }\n",
              "</style>\n",
              "<table border=\"1\" class=\"dataframe\">\n",
              "  <thead>\n",
              "    <tr style=\"text-align: right;\">\n",
              "      <th></th>\n",
              "      <th>month</th>\n",
              "      <th>key</th>\n",
              "      <th>CustomerID</th>\n",
              "      <th>reg_date</th>\n",
              "      <th>reg_month</th>\n",
              "    </tr>\n",
              "  </thead>\n",
              "  <tbody>\n",
              "    <tr>\n",
              "      <th>4374</th>\n",
              "      <td>2011-01-01</td>\n",
              "      <td>1</td>\n",
              "      <td>12346.0</td>\n",
              "      <td>2011-01-18 10:01:00</td>\n",
              "      <td>2011-01-01</td>\n",
              "    </tr>\n",
              "    <tr>\n",
              "      <th>8747</th>\n",
              "      <td>2011-02-01</td>\n",
              "      <td>1</td>\n",
              "      <td>12346.0</td>\n",
              "      <td>2011-01-18 10:01:00</td>\n",
              "      <td>2011-01-01</td>\n",
              "    </tr>\n",
              "    <tr>\n",
              "      <th>13120</th>\n",
              "      <td>2011-03-01</td>\n",
              "      <td>1</td>\n",
              "      <td>12346.0</td>\n",
              "      <td>2011-01-18 10:01:00</td>\n",
              "      <td>2011-01-01</td>\n",
              "    </tr>\n",
              "    <tr>\n",
              "      <th>17493</th>\n",
              "      <td>2011-04-01</td>\n",
              "      <td>1</td>\n",
              "      <td>12346.0</td>\n",
              "      <td>2011-01-18 10:01:00</td>\n",
              "      <td>2011-01-01</td>\n",
              "    </tr>\n",
              "    <tr>\n",
              "      <th>21866</th>\n",
              "      <td>2011-05-01</td>\n",
              "      <td>1</td>\n",
              "      <td>12346.0</td>\n",
              "      <td>2011-01-18 10:01:00</td>\n",
              "      <td>2011-01-01</td>\n",
              "    </tr>\n",
              "    <tr>\n",
              "      <th>26239</th>\n",
              "      <td>2011-06-01</td>\n",
              "      <td>1</td>\n",
              "      <td>12346.0</td>\n",
              "      <td>2011-01-18 10:01:00</td>\n",
              "      <td>2011-01-01</td>\n",
              "    </tr>\n",
              "    <tr>\n",
              "      <th>30612</th>\n",
              "      <td>2011-07-01</td>\n",
              "      <td>1</td>\n",
              "      <td>12346.0</td>\n",
              "      <td>2011-01-18 10:01:00</td>\n",
              "      <td>2011-01-01</td>\n",
              "    </tr>\n",
              "    <tr>\n",
              "      <th>34985</th>\n",
              "      <td>2011-08-01</td>\n",
              "      <td>1</td>\n",
              "      <td>12346.0</td>\n",
              "      <td>2011-01-18 10:01:00</td>\n",
              "      <td>2011-01-01</td>\n",
              "    </tr>\n",
              "    <tr>\n",
              "      <th>39358</th>\n",
              "      <td>2011-09-01</td>\n",
              "      <td>1</td>\n",
              "      <td>12346.0</td>\n",
              "      <td>2011-01-18 10:01:00</td>\n",
              "      <td>2011-01-01</td>\n",
              "    </tr>\n",
              "    <tr>\n",
              "      <th>43731</th>\n",
              "      <td>2011-10-01</td>\n",
              "      <td>1</td>\n",
              "      <td>12346.0</td>\n",
              "      <td>2011-01-18 10:01:00</td>\n",
              "      <td>2011-01-01</td>\n",
              "    </tr>\n",
              "    <tr>\n",
              "      <th>48104</th>\n",
              "      <td>2011-11-01</td>\n",
              "      <td>1</td>\n",
              "      <td>12346.0</td>\n",
              "      <td>2011-01-18 10:01:00</td>\n",
              "      <td>2011-01-01</td>\n",
              "    </tr>\n",
              "    <tr>\n",
              "      <th>52477</th>\n",
              "      <td>2011-12-01</td>\n",
              "      <td>1</td>\n",
              "      <td>12346.0</td>\n",
              "      <td>2011-01-18 10:01:00</td>\n",
              "      <td>2011-01-01</td>\n",
              "    </tr>\n",
              "  </tbody>\n",
              "</table>\n",
              "</div>"
            ],
            "text/plain": [
              "           month  key  CustomerID            reg_date  reg_month\n",
              "4374  2011-01-01    1     12346.0 2011-01-18 10:01:00 2011-01-01\n",
              "8747  2011-02-01    1     12346.0 2011-01-18 10:01:00 2011-01-01\n",
              "13120 2011-03-01    1     12346.0 2011-01-18 10:01:00 2011-01-01\n",
              "17493 2011-04-01    1     12346.0 2011-01-18 10:01:00 2011-01-01\n",
              "21866 2011-05-01    1     12346.0 2011-01-18 10:01:00 2011-01-01\n",
              "26239 2011-06-01    1     12346.0 2011-01-18 10:01:00 2011-01-01\n",
              "30612 2011-07-01    1     12346.0 2011-01-18 10:01:00 2011-01-01\n",
              "34985 2011-08-01    1     12346.0 2011-01-18 10:01:00 2011-01-01\n",
              "39358 2011-09-01    1     12346.0 2011-01-18 10:01:00 2011-01-01\n",
              "43731 2011-10-01    1     12346.0 2011-01-18 10:01:00 2011-01-01\n",
              "48104 2011-11-01    1     12346.0 2011-01-18 10:01:00 2011-01-01\n",
              "52477 2011-12-01    1     12346.0 2011-01-18 10:01:00 2011-01-01"
            ]
          },
          "metadata": {
            "tags": []
          },
          "execution_count": 33
        }
      ]
    },
    {
      "cell_type": "code",
      "metadata": {
        "id": "FcqmJFD3PH48",
        "colab": {
          "base_uri": "https://localhost:8080/",
          "height": 136
        },
        "outputId": "0c8975d4-2ef0-45d3-b248-8b174d8be751"
      },
      "source": [
        "report[report['CustomerID'] == 12448.0]"
      ],
      "execution_count": null,
      "outputs": [
        {
          "output_type": "execute_result",
          "data": {
            "text/html": [
              "<div>\n",
              "<style scoped>\n",
              "    .dataframe tbody tr th:only-of-type {\n",
              "        vertical-align: middle;\n",
              "    }\n",
              "\n",
              "    .dataframe tbody tr th {\n",
              "        vertical-align: top;\n",
              "    }\n",
              "\n",
              "    .dataframe thead th {\n",
              "        text-align: right;\n",
              "    }\n",
              "</style>\n",
              "<table border=\"1\" class=\"dataframe\">\n",
              "  <thead>\n",
              "    <tr style=\"text-align: right;\">\n",
              "      <th></th>\n",
              "      <th>month</th>\n",
              "      <th>key</th>\n",
              "      <th>CustomerID</th>\n",
              "      <th>reg_date</th>\n",
              "      <th>reg_month</th>\n",
              "    </tr>\n",
              "  </thead>\n",
              "  <tbody>\n",
              "    <tr>\n",
              "      <th>43814</th>\n",
              "      <td>2011-10-01</td>\n",
              "      <td>1</td>\n",
              "      <td>12448.0</td>\n",
              "      <td>2011-10-26 13:46:00</td>\n",
              "      <td>2011-10-01</td>\n",
              "    </tr>\n",
              "    <tr>\n",
              "      <th>48187</th>\n",
              "      <td>2011-11-01</td>\n",
              "      <td>1</td>\n",
              "      <td>12448.0</td>\n",
              "      <td>2011-10-26 13:46:00</td>\n",
              "      <td>2011-10-01</td>\n",
              "    </tr>\n",
              "    <tr>\n",
              "      <th>52560</th>\n",
              "      <td>2011-12-01</td>\n",
              "      <td>1</td>\n",
              "      <td>12448.0</td>\n",
              "      <td>2011-10-26 13:46:00</td>\n",
              "      <td>2011-10-01</td>\n",
              "    </tr>\n",
              "  </tbody>\n",
              "</table>\n",
              "</div>"
            ],
            "text/plain": [
              "           month  key  CustomerID            reg_date  reg_month\n",
              "43814 2011-10-01    1     12448.0 2011-10-26 13:46:00 2011-10-01\n",
              "48187 2011-11-01    1     12448.0 2011-10-26 13:46:00 2011-10-01\n",
              "52560 2011-12-01    1     12448.0 2011-10-26 13:46:00 2011-10-01"
            ]
          },
          "metadata": {
            "tags": []
          },
          "execution_count": 34
        }
      ]
    },
    {
      "cell_type": "markdown",
      "metadata": {
        "id": "8wmxzu9MIks6"
      },
      "source": [
        "Теперь можно джойнить инфу по продажам. Но сначала"
      ]
    },
    {
      "cell_type": "markdown",
      "metadata": {
        "id": "MqVcIxmAIqMn"
      },
      "source": [
        "# 3. Сгруппируй данные по продажам перед тем как джойнить их к отчету.\n",
        " \n",
        "Посчитаем суммарные продажи на каждый месяц.\n"
      ]
    },
    {
      "cell_type": "code",
      "metadata": {
        "id": "FJ0MBqBkIeSg",
        "colab": {
          "base_uri": "https://localhost:8080/",
          "height": 279
        },
        "outputId": "76e58a59-b36d-4d01-a266-a61630c28992"
      },
      "source": [
        "df.head()"
      ],
      "execution_count": null,
      "outputs": [
        {
          "output_type": "execute_result",
          "data": {
            "text/html": [
              "<div>\n",
              "<style scoped>\n",
              "    .dataframe tbody tr th:only-of-type {\n",
              "        vertical-align: middle;\n",
              "    }\n",
              "\n",
              "    .dataframe tbody tr th {\n",
              "        vertical-align: top;\n",
              "    }\n",
              "\n",
              "    .dataframe thead th {\n",
              "        text-align: right;\n",
              "    }\n",
              "</style>\n",
              "<table border=\"1\" class=\"dataframe\">\n",
              "  <thead>\n",
              "    <tr style=\"text-align: right;\">\n",
              "      <th></th>\n",
              "      <th>InvoiceNo</th>\n",
              "      <th>StockCode</th>\n",
              "      <th>Description</th>\n",
              "      <th>Quantity</th>\n",
              "      <th>InvoiceDate</th>\n",
              "      <th>UnitPrice</th>\n",
              "      <th>CustomerID</th>\n",
              "      <th>Country</th>\n",
              "    </tr>\n",
              "  </thead>\n",
              "  <tbody>\n",
              "    <tr>\n",
              "      <th>0</th>\n",
              "      <td>536365</td>\n",
              "      <td>85123A</td>\n",
              "      <td>WHITE HANGING HEART T-LIGHT HOLDER</td>\n",
              "      <td>6</td>\n",
              "      <td>2010-12-01 08:26:00</td>\n",
              "      <td>2.55</td>\n",
              "      <td>17850.0</td>\n",
              "      <td>United Kingdom</td>\n",
              "    </tr>\n",
              "    <tr>\n",
              "      <th>1</th>\n",
              "      <td>536365</td>\n",
              "      <td>71053</td>\n",
              "      <td>WHITE METAL LANTERN</td>\n",
              "      <td>6</td>\n",
              "      <td>2010-12-01 08:26:00</td>\n",
              "      <td>3.39</td>\n",
              "      <td>17850.0</td>\n",
              "      <td>United Kingdom</td>\n",
              "    </tr>\n",
              "    <tr>\n",
              "      <th>2</th>\n",
              "      <td>536365</td>\n",
              "      <td>84406B</td>\n",
              "      <td>CREAM CUPID HEARTS COAT HANGER</td>\n",
              "      <td>8</td>\n",
              "      <td>2010-12-01 08:26:00</td>\n",
              "      <td>2.75</td>\n",
              "      <td>17850.0</td>\n",
              "      <td>United Kingdom</td>\n",
              "    </tr>\n",
              "    <tr>\n",
              "      <th>3</th>\n",
              "      <td>536365</td>\n",
              "      <td>84029G</td>\n",
              "      <td>KNITTED UNION FLAG HOT WATER BOTTLE</td>\n",
              "      <td>6</td>\n",
              "      <td>2010-12-01 08:26:00</td>\n",
              "      <td>3.39</td>\n",
              "      <td>17850.0</td>\n",
              "      <td>United Kingdom</td>\n",
              "    </tr>\n",
              "    <tr>\n",
              "      <th>4</th>\n",
              "      <td>536365</td>\n",
              "      <td>84029E</td>\n",
              "      <td>RED WOOLLY HOTTIE WHITE HEART.</td>\n",
              "      <td>6</td>\n",
              "      <td>2010-12-01 08:26:00</td>\n",
              "      <td>3.39</td>\n",
              "      <td>17850.0</td>\n",
              "      <td>United Kingdom</td>\n",
              "    </tr>\n",
              "  </tbody>\n",
              "</table>\n",
              "</div>"
            ],
            "text/plain": [
              "  InvoiceNo StockCode  ... CustomerID         Country\n",
              "0    536365    85123A  ...    17850.0  United Kingdom\n",
              "1    536365     71053  ...    17850.0  United Kingdom\n",
              "2    536365    84406B  ...    17850.0  United Kingdom\n",
              "3    536365    84029G  ...    17850.0  United Kingdom\n",
              "4    536365    84029E  ...    17850.0  United Kingdom\n",
              "\n",
              "[5 rows x 8 columns]"
            ]
          },
          "metadata": {
            "tags": []
          },
          "execution_count": 35
        }
      ]
    },
    {
      "cell_type": "code",
      "metadata": {
        "id": "bt-qasTHI-vq"
      },
      "source": [
        "df['month'] = df['InvoiceDate'].values.astype('datetime64[M]')"
      ],
      "execution_count": null,
      "outputs": []
    },
    {
      "cell_type": "code",
      "metadata": {
        "id": "LdBHHlzgaGlb"
      },
      "source": [
        "df['revenue'] = df['Quantity'] * df['UnitPrice']"
      ],
      "execution_count": null,
      "outputs": []
    },
    {
      "cell_type": "markdown",
      "metadata": {
        "id": "dHQP5jAoaNCX"
      },
      "source": [
        "Там есть отрицательные значения по количеству -- наверное это возвраты. Но для этого туториала это не важно, мы тут учимся общим принципам джойнинья и составлению отчетов"
      ]
    },
    {
      "cell_type": "code",
      "metadata": {
        "id": "dr70lpEDJFZ3"
      },
      "source": [
        "sales_month = df.groupby(['CustomerID','month'])[['revenue']].agg(['sum']).reset_index()"
      ],
      "execution_count": null,
      "outputs": []
    },
    {
      "cell_type": "code",
      "metadata": {
        "id": "tbylCb7TJanZ",
        "colab": {
          "base_uri": "https://localhost:8080/",
          "height": 225
        },
        "outputId": "d80dad97-aaef-44c0-cad6-34b80b32d3ce"
      },
      "source": [
        "sales_month.head()"
      ],
      "execution_count": null,
      "outputs": [
        {
          "output_type": "execute_result",
          "data": {
            "text/html": [
              "<div>\n",
              "<style scoped>\n",
              "    .dataframe tbody tr th:only-of-type {\n",
              "        vertical-align: middle;\n",
              "    }\n",
              "\n",
              "    .dataframe tbody tr th {\n",
              "        vertical-align: top;\n",
              "    }\n",
              "\n",
              "    .dataframe thead tr th {\n",
              "        text-align: left;\n",
              "    }\n",
              "</style>\n",
              "<table border=\"1\" class=\"dataframe\">\n",
              "  <thead>\n",
              "    <tr>\n",
              "      <th></th>\n",
              "      <th>CustomerID</th>\n",
              "      <th>month</th>\n",
              "      <th>revenue</th>\n",
              "    </tr>\n",
              "    <tr>\n",
              "      <th></th>\n",
              "      <th></th>\n",
              "      <th></th>\n",
              "      <th>sum</th>\n",
              "    </tr>\n",
              "  </thead>\n",
              "  <tbody>\n",
              "    <tr>\n",
              "      <th>0</th>\n",
              "      <td>-999999.0</td>\n",
              "      <td>2010-12-01</td>\n",
              "      <td>194353.00</td>\n",
              "    </tr>\n",
              "    <tr>\n",
              "      <th>1</th>\n",
              "      <td>-999999.0</td>\n",
              "      <td>2011-01-01</td>\n",
              "      <td>84925.88</td>\n",
              "    </tr>\n",
              "    <tr>\n",
              "      <th>2</th>\n",
              "      <td>-999999.0</td>\n",
              "      <td>2011-02-01</td>\n",
              "      <td>61516.50</td>\n",
              "    </tr>\n",
              "    <tr>\n",
              "      <th>3</th>\n",
              "      <td>-999999.0</td>\n",
              "      <td>2011-03-01</td>\n",
              "      <td>103302.47</td>\n",
              "    </tr>\n",
              "    <tr>\n",
              "      <th>4</th>\n",
              "      <td>-999999.0</td>\n",
              "      <td>2011-04-01</td>\n",
              "      <td>67159.27</td>\n",
              "    </tr>\n",
              "  </tbody>\n",
              "</table>\n",
              "</div>"
            ],
            "text/plain": [
              "  CustomerID      month    revenue\n",
              "                               sum\n",
              "0  -999999.0 2010-12-01  194353.00\n",
              "1  -999999.0 2011-01-01   84925.88\n",
              "2  -999999.0 2011-02-01   61516.50\n",
              "3  -999999.0 2011-03-01  103302.47\n",
              "4  -999999.0 2011-04-01   67159.27"
            ]
          },
          "metadata": {
            "tags": []
          },
          "execution_count": 39
        }
      ]
    },
    {
      "cell_type": "code",
      "metadata": {
        "id": "boOe21brJeFt"
      },
      "source": [
        "sales_month.columns = ['CustomerID','month','revenue']"
      ],
      "execution_count": null,
      "outputs": []
    },
    {
      "cell_type": "code",
      "metadata": {
        "id": "bqhwkqjGJsDT",
        "colab": {
          "base_uri": "https://localhost:8080/",
          "height": 195
        },
        "outputId": "5dfb8bd6-f810-453d-b1f4-82111deeffa2"
      },
      "source": [
        "sales_month.head()"
      ],
      "execution_count": null,
      "outputs": [
        {
          "output_type": "execute_result",
          "data": {
            "text/html": [
              "<div>\n",
              "<style scoped>\n",
              "    .dataframe tbody tr th:only-of-type {\n",
              "        vertical-align: middle;\n",
              "    }\n",
              "\n",
              "    .dataframe tbody tr th {\n",
              "        vertical-align: top;\n",
              "    }\n",
              "\n",
              "    .dataframe thead th {\n",
              "        text-align: right;\n",
              "    }\n",
              "</style>\n",
              "<table border=\"1\" class=\"dataframe\">\n",
              "  <thead>\n",
              "    <tr style=\"text-align: right;\">\n",
              "      <th></th>\n",
              "      <th>CustomerID</th>\n",
              "      <th>month</th>\n",
              "      <th>revenue</th>\n",
              "    </tr>\n",
              "  </thead>\n",
              "  <tbody>\n",
              "    <tr>\n",
              "      <th>0</th>\n",
              "      <td>-999999.0</td>\n",
              "      <td>2010-12-01</td>\n",
              "      <td>194353.00</td>\n",
              "    </tr>\n",
              "    <tr>\n",
              "      <th>1</th>\n",
              "      <td>-999999.0</td>\n",
              "      <td>2011-01-01</td>\n",
              "      <td>84925.88</td>\n",
              "    </tr>\n",
              "    <tr>\n",
              "      <th>2</th>\n",
              "      <td>-999999.0</td>\n",
              "      <td>2011-02-01</td>\n",
              "      <td>61516.50</td>\n",
              "    </tr>\n",
              "    <tr>\n",
              "      <th>3</th>\n",
              "      <td>-999999.0</td>\n",
              "      <td>2011-03-01</td>\n",
              "      <td>103302.47</td>\n",
              "    </tr>\n",
              "    <tr>\n",
              "      <th>4</th>\n",
              "      <td>-999999.0</td>\n",
              "      <td>2011-04-01</td>\n",
              "      <td>67159.27</td>\n",
              "    </tr>\n",
              "  </tbody>\n",
              "</table>\n",
              "</div>"
            ],
            "text/plain": [
              "   CustomerID      month    revenue\n",
              "0   -999999.0 2010-12-01  194353.00\n",
              "1   -999999.0 2011-01-01   84925.88\n",
              "2   -999999.0 2011-02-01   61516.50\n",
              "3   -999999.0 2011-03-01  103302.47\n",
              "4   -999999.0 2011-04-01   67159.27"
            ]
          },
          "metadata": {
            "tags": []
          },
          "execution_count": 41
        }
      ]
    },
    {
      "cell_type": "markdown",
      "metadata": {
        "id": "q7B_D_fm-gev"
      },
      "source": [
        "И здесь обязательно проверка по то тоталу, общей сумме по ревеню. Можешь называть это контрольной суммой. Сколько бы таблиц ты не делал тоталы всегда должны сходится. Если не проверил бьются ли тоталы, но ты не имеешь права отправлять свой отчет никому. Засмеют."
      ]
    },
    {
      "cell_type": "code",
      "metadata": {
        "id": "7vXn7rgi-8se",
        "colab": {
          "base_uri": "https://localhost:8080/"
        },
        "outputId": "7365089d-3043-4922-8ba8-e7550eb3721a"
      },
      "source": [
        "df['revenue'].sum()"
      ],
      "execution_count": null,
      "outputs": [
        {
          "output_type": "execute_result",
          "data": {
            "text/plain": [
              "9747747.933999998"
            ]
          },
          "metadata": {
            "tags": []
          },
          "execution_count": 42
        }
      ]
    },
    {
      "cell_type": "code",
      "metadata": {
        "id": "NZX-SCPW_AzE",
        "colab": {
          "base_uri": "https://localhost:8080/"
        },
        "outputId": "e389377f-bb9a-4024-ad4a-1f543d94c1ec"
      },
      "source": [
        "sales_month['revenue'].sum()"
      ],
      "execution_count": null,
      "outputs": [
        {
          "output_type": "execute_result",
          "data": {
            "text/plain": [
              "9747747.934000025"
            ]
          },
          "metadata": {
            "tags": []
          },
          "execution_count": 43
        }
      ]
    },
    {
      "cell_type": "markdown",
      "metadata": {
        "id": "4L5Tk-R-_EkD"
      },
      "source": [
        "Сходится. То что там не бьются далекие цифры полсе запятой это ок. https://stackoverflow.com/a/11873114/4527289"
      ]
    },
    {
      "cell_type": "markdown",
      "metadata": {
        "id": "FqCJud5jKJco"
      },
      "source": [
        "# 4. Джойним к отчету"
      ]
    },
    {
      "cell_type": "code",
      "metadata": {
        "id": "MItUI9USJth-"
      },
      "source": [
        "report = report.merge(sales_month,how='left',on=['CustomerID','month'])"
      ],
      "execution_count": null,
      "outputs": []
    },
    {
      "cell_type": "markdown",
      "metadata": {
        "id": "SXWMqt1rKfer"
      },
      "source": [
        "Очень важно использовать лефт джоин! Когда используешь лефт джоин, то остануться все строки из таблицы report. И мы сможем увидеть месяца, когда у клиента не было активности"
      ]
    },
    {
      "cell_type": "code",
      "metadata": {
        "id": "P5zUlTQdKXx3",
        "colab": {
          "base_uri": "https://localhost:8080/",
          "height": 195
        },
        "outputId": "50231755-9f1c-4840-be67-3823b5e58f0a"
      },
      "source": [
        "report.head()"
      ],
      "execution_count": null,
      "outputs": [
        {
          "output_type": "execute_result",
          "data": {
            "text/html": [
              "<div>\n",
              "<style scoped>\n",
              "    .dataframe tbody tr th:only-of-type {\n",
              "        vertical-align: middle;\n",
              "    }\n",
              "\n",
              "    .dataframe tbody tr th {\n",
              "        vertical-align: top;\n",
              "    }\n",
              "\n",
              "    .dataframe thead th {\n",
              "        text-align: right;\n",
              "    }\n",
              "</style>\n",
              "<table border=\"1\" class=\"dataframe\">\n",
              "  <thead>\n",
              "    <tr style=\"text-align: right;\">\n",
              "      <th></th>\n",
              "      <th>month</th>\n",
              "      <th>key</th>\n",
              "      <th>CustomerID</th>\n",
              "      <th>reg_date</th>\n",
              "      <th>reg_month</th>\n",
              "      <th>revenue</th>\n",
              "    </tr>\n",
              "  </thead>\n",
              "  <tbody>\n",
              "    <tr>\n",
              "      <th>0</th>\n",
              "      <td>2010-12-01</td>\n",
              "      <td>1</td>\n",
              "      <td>-999999.0</td>\n",
              "      <td>2010-12-01 11:52:00</td>\n",
              "      <td>2010-12-01</td>\n",
              "      <td>194353.00</td>\n",
              "    </tr>\n",
              "    <tr>\n",
              "      <th>1</th>\n",
              "      <td>2010-12-01</td>\n",
              "      <td>1</td>\n",
              "      <td>12347.0</td>\n",
              "      <td>2010-12-07 14:57:00</td>\n",
              "      <td>2010-12-01</td>\n",
              "      <td>711.79</td>\n",
              "    </tr>\n",
              "    <tr>\n",
              "      <th>2</th>\n",
              "      <td>2010-12-01</td>\n",
              "      <td>1</td>\n",
              "      <td>12348.0</td>\n",
              "      <td>2010-12-16 19:09:00</td>\n",
              "      <td>2010-12-01</td>\n",
              "      <td>892.80</td>\n",
              "    </tr>\n",
              "    <tr>\n",
              "      <th>3</th>\n",
              "      <td>2010-12-01</td>\n",
              "      <td>1</td>\n",
              "      <td>12370.0</td>\n",
              "      <td>2010-12-14 12:58:00</td>\n",
              "      <td>2010-12-01</td>\n",
              "      <td>1868.02</td>\n",
              "    </tr>\n",
              "    <tr>\n",
              "      <th>4</th>\n",
              "      <td>2010-12-01</td>\n",
              "      <td>1</td>\n",
              "      <td>12377.0</td>\n",
              "      <td>2010-12-20 09:37:00</td>\n",
              "      <td>2010-12-01</td>\n",
              "      <td>1001.52</td>\n",
              "    </tr>\n",
              "  </tbody>\n",
              "</table>\n",
              "</div>"
            ],
            "text/plain": [
              "       month  key  CustomerID            reg_date  reg_month    revenue\n",
              "0 2010-12-01    1   -999999.0 2010-12-01 11:52:00 2010-12-01  194353.00\n",
              "1 2010-12-01    1     12347.0 2010-12-07 14:57:00 2010-12-01     711.79\n",
              "2 2010-12-01    1     12348.0 2010-12-16 19:09:00 2010-12-01     892.80\n",
              "3 2010-12-01    1     12370.0 2010-12-14 12:58:00 2010-12-01    1868.02\n",
              "4 2010-12-01    1     12377.0 2010-12-20 09:37:00 2010-12-01    1001.52"
            ]
          },
          "metadata": {
            "tags": []
          },
          "execution_count": 45
        }
      ]
    },
    {
      "cell_type": "markdown",
      "metadata": {
        "id": "GddH-bfc_0LL"
      },
      "source": [
        "После джойна тоже проверка по котрольной сумме. Обязательно."
      ]
    },
    {
      "cell_type": "code",
      "metadata": {
        "id": "_zuyw-rJ_4HU",
        "colab": {
          "base_uri": "https://localhost:8080/"
        },
        "outputId": "ec9c8d01-56f6-4741-d189-84db198572b6"
      },
      "source": [
        "df['revenue'].sum()"
      ],
      "execution_count": null,
      "outputs": [
        {
          "output_type": "execute_result",
          "data": {
            "text/plain": [
              "9747747.933999998"
            ]
          },
          "metadata": {
            "tags": []
          },
          "execution_count": 46
        }
      ]
    },
    {
      "cell_type": "code",
      "metadata": {
        "id": "_T_99kS-_6TP",
        "colab": {
          "base_uri": "https://localhost:8080/"
        },
        "outputId": "fd476626-182c-4cd8-ae3a-3ffd419037f1"
      },
      "source": [
        "report['revenue'].sum()"
      ],
      "execution_count": null,
      "outputs": [
        {
          "output_type": "execute_result",
          "data": {
            "text/plain": [
              "9747747.934000023"
            ]
          },
          "metadata": {
            "tags": []
          },
          "execution_count": 47
        }
      ]
    },
    {
      "cell_type": "markdown",
      "metadata": {
        "id": "42UQ7p6xKwyp"
      },
      "source": [
        "И так же очень полезна проверка на вменяемость с помощью глаз головы. На англисйском это называется sanity check. Посмотрим на отдельного клиента."
      ]
    },
    {
      "cell_type": "code",
      "metadata": {
        "id": "5sFt8kREKupG",
        "colab": {
          "base_uri": "https://localhost:8080/",
          "height": 432
        },
        "outputId": "ce442022-20af-4e37-f930-7b8737777a40"
      },
      "source": [
        "report[report['CustomerID'] == 12347.0]"
      ],
      "execution_count": null,
      "outputs": [
        {
          "output_type": "execute_result",
          "data": {
            "text/html": [
              "<div>\n",
              "<style scoped>\n",
              "    .dataframe tbody tr th:only-of-type {\n",
              "        vertical-align: middle;\n",
              "    }\n",
              "\n",
              "    .dataframe tbody tr th {\n",
              "        vertical-align: top;\n",
              "    }\n",
              "\n",
              "    .dataframe thead th {\n",
              "        text-align: right;\n",
              "    }\n",
              "</style>\n",
              "<table border=\"1\" class=\"dataframe\">\n",
              "  <thead>\n",
              "    <tr style=\"text-align: right;\">\n",
              "      <th></th>\n",
              "      <th>month</th>\n",
              "      <th>key</th>\n",
              "      <th>CustomerID</th>\n",
              "      <th>reg_date</th>\n",
              "      <th>reg_month</th>\n",
              "      <th>revenue</th>\n",
              "    </tr>\n",
              "  </thead>\n",
              "  <tbody>\n",
              "    <tr>\n",
              "      <th>1</th>\n",
              "      <td>2010-12-01</td>\n",
              "      <td>1</td>\n",
              "      <td>12347.0</td>\n",
              "      <td>2010-12-07 14:57:00</td>\n",
              "      <td>2010-12-01</td>\n",
              "      <td>711.79</td>\n",
              "    </tr>\n",
              "    <tr>\n",
              "      <th>951</th>\n",
              "      <td>2011-01-01</td>\n",
              "      <td>1</td>\n",
              "      <td>12347.0</td>\n",
              "      <td>2010-12-07 14:57:00</td>\n",
              "      <td>2010-12-01</td>\n",
              "      <td>475.39</td>\n",
              "    </tr>\n",
              "    <tr>\n",
              "      <th>2321</th>\n",
              "      <td>2011-02-01</td>\n",
              "      <td>1</td>\n",
              "      <td>12347.0</td>\n",
              "      <td>2010-12-07 14:57:00</td>\n",
              "      <td>2010-12-01</td>\n",
              "      <td>NaN</td>\n",
              "    </tr>\n",
              "    <tr>\n",
              "      <th>4071</th>\n",
              "      <td>2011-03-01</td>\n",
              "      <td>1</td>\n",
              "      <td>12347.0</td>\n",
              "      <td>2010-12-07 14:57:00</td>\n",
              "      <td>2010-12-01</td>\n",
              "      <td>NaN</td>\n",
              "    </tr>\n",
              "    <tr>\n",
              "      <th>6261</th>\n",
              "      <td>2011-04-01</td>\n",
              "      <td>1</td>\n",
              "      <td>12347.0</td>\n",
              "      <td>2010-12-07 14:57:00</td>\n",
              "      <td>2010-12-01</td>\n",
              "      <td>636.25</td>\n",
              "    </tr>\n",
              "    <tr>\n",
              "      <th>8750</th>\n",
              "      <td>2011-05-01</td>\n",
              "      <td>1</td>\n",
              "      <td>12347.0</td>\n",
              "      <td>2010-12-07 14:57:00</td>\n",
              "      <td>2010-12-01</td>\n",
              "      <td>NaN</td>\n",
              "    </tr>\n",
              "    <tr>\n",
              "      <th>11518</th>\n",
              "      <td>2011-06-01</td>\n",
              "      <td>1</td>\n",
              "      <td>12347.0</td>\n",
              "      <td>2010-12-07 14:57:00</td>\n",
              "      <td>2010-12-01</td>\n",
              "      <td>382.52</td>\n",
              "    </tr>\n",
              "    <tr>\n",
              "      <th>14521</th>\n",
              "      <td>2011-07-01</td>\n",
              "      <td>1</td>\n",
              "      <td>12347.0</td>\n",
              "      <td>2010-12-07 14:57:00</td>\n",
              "      <td>2010-12-01</td>\n",
              "      <td>NaN</td>\n",
              "    </tr>\n",
              "    <tr>\n",
              "      <th>17715</th>\n",
              "      <td>2011-08-01</td>\n",
              "      <td>1</td>\n",
              "      <td>12347.0</td>\n",
              "      <td>2010-12-07 14:57:00</td>\n",
              "      <td>2010-12-01</td>\n",
              "      <td>584.91</td>\n",
              "    </tr>\n",
              "    <tr>\n",
              "      <th>21076</th>\n",
              "      <td>2011-09-01</td>\n",
              "      <td>1</td>\n",
              "      <td>12347.0</td>\n",
              "      <td>2010-12-07 14:57:00</td>\n",
              "      <td>2010-12-01</td>\n",
              "      <td>NaN</td>\n",
              "    </tr>\n",
              "    <tr>\n",
              "      <th>24735</th>\n",
              "      <td>2011-10-01</td>\n",
              "      <td>1</td>\n",
              "      <td>12347.0</td>\n",
              "      <td>2010-12-07 14:57:00</td>\n",
              "      <td>2010-12-01</td>\n",
              "      <td>1294.32</td>\n",
              "    </tr>\n",
              "    <tr>\n",
              "      <th>28746</th>\n",
              "      <td>2011-11-01</td>\n",
              "      <td>1</td>\n",
              "      <td>12347.0</td>\n",
              "      <td>2010-12-07 14:57:00</td>\n",
              "      <td>2010-12-01</td>\n",
              "      <td>NaN</td>\n",
              "    </tr>\n",
              "    <tr>\n",
              "      <th>33078</th>\n",
              "      <td>2011-12-01</td>\n",
              "      <td>1</td>\n",
              "      <td>12347.0</td>\n",
              "      <td>2010-12-07 14:57:00</td>\n",
              "      <td>2010-12-01</td>\n",
              "      <td>224.82</td>\n",
              "    </tr>\n",
              "  </tbody>\n",
              "</table>\n",
              "</div>"
            ],
            "text/plain": [
              "           month  key  CustomerID            reg_date  reg_month  revenue\n",
              "1     2010-12-01    1     12347.0 2010-12-07 14:57:00 2010-12-01   711.79\n",
              "951   2011-01-01    1     12347.0 2010-12-07 14:57:00 2010-12-01   475.39\n",
              "2321  2011-02-01    1     12347.0 2010-12-07 14:57:00 2010-12-01      NaN\n",
              "4071  2011-03-01    1     12347.0 2010-12-07 14:57:00 2010-12-01      NaN\n",
              "6261  2011-04-01    1     12347.0 2010-12-07 14:57:00 2010-12-01   636.25\n",
              "8750  2011-05-01    1     12347.0 2010-12-07 14:57:00 2010-12-01      NaN\n",
              "11518 2011-06-01    1     12347.0 2010-12-07 14:57:00 2010-12-01   382.52\n",
              "14521 2011-07-01    1     12347.0 2010-12-07 14:57:00 2010-12-01      NaN\n",
              "17715 2011-08-01    1     12347.0 2010-12-07 14:57:00 2010-12-01   584.91\n",
              "21076 2011-09-01    1     12347.0 2010-12-07 14:57:00 2010-12-01      NaN\n",
              "24735 2011-10-01    1     12347.0 2010-12-07 14:57:00 2010-12-01  1294.32\n",
              "28746 2011-11-01    1     12347.0 2010-12-07 14:57:00 2010-12-01      NaN\n",
              "33078 2011-12-01    1     12347.0 2010-12-07 14:57:00 2010-12-01   224.82"
            ]
          },
          "metadata": {
            "tags": []
          },
          "execution_count": 48
        }
      ]
    },
    {
      "cell_type": "markdown",
      "metadata": {
        "id": "6oGV1I1PK5zC"
      },
      "source": [
        "Вроде ок. Видно, что активность этого клиента нерегулярная! Например у него есть перерыв в покупках после 2011-01-01 на два месяца. "
      ]
    },
    {
      "cell_type": "markdown",
      "metadata": {
        "id": "TX4sSjl9JLn7"
      },
      "source": [
        "# 5. Базовые метрики"
      ]
    },
    {
      "cell_type": "markdown",
      "metadata": {
        "id": "fEuaRoLgLZaM"
      },
      "source": [
        "С помощью этой таблицы можно расчитать кучу всего полезного"
      ]
    },
    {
      "cell_type": "markdown",
      "metadata": {
        "id": "wxGxhio9PsiZ"
      },
      "source": [
        "Продажи на каждый месяц"
      ]
    },
    {
      "cell_type": "code",
      "metadata": {
        "id": "513Esd1nPv3z",
        "colab": {
          "base_uri": "https://localhost:8080/",
          "height": 462
        },
        "outputId": "aee93d39-268a-4b68-a936-391382e95d3a"
      },
      "source": [
        "report.groupby('month')[['revenue']].agg('sum')"
      ],
      "execution_count": null,
      "outputs": [
        {
          "output_type": "execute_result",
          "data": {
            "text/html": [
              "<div>\n",
              "<style scoped>\n",
              "    .dataframe tbody tr th:only-of-type {\n",
              "        vertical-align: middle;\n",
              "    }\n",
              "\n",
              "    .dataframe tbody tr th {\n",
              "        vertical-align: top;\n",
              "    }\n",
              "\n",
              "    .dataframe thead th {\n",
              "        text-align: right;\n",
              "    }\n",
              "</style>\n",
              "<table border=\"1\" class=\"dataframe\">\n",
              "  <thead>\n",
              "    <tr style=\"text-align: right;\">\n",
              "      <th></th>\n",
              "      <th>revenue</th>\n",
              "    </tr>\n",
              "    <tr>\n",
              "      <th>month</th>\n",
              "      <th></th>\n",
              "    </tr>\n",
              "  </thead>\n",
              "  <tbody>\n",
              "    <tr>\n",
              "      <th>2010-12-01</th>\n",
              "      <td>748957.020</td>\n",
              "    </tr>\n",
              "    <tr>\n",
              "      <th>2011-01-01</th>\n",
              "      <td>560000.260</td>\n",
              "    </tr>\n",
              "    <tr>\n",
              "      <th>2011-02-01</th>\n",
              "      <td>498062.650</td>\n",
              "    </tr>\n",
              "    <tr>\n",
              "      <th>2011-03-01</th>\n",
              "      <td>683267.080</td>\n",
              "    </tr>\n",
              "    <tr>\n",
              "      <th>2011-04-01</th>\n",
              "      <td>493207.121</td>\n",
              "    </tr>\n",
              "    <tr>\n",
              "      <th>2011-05-01</th>\n",
              "      <td>723333.510</td>\n",
              "    </tr>\n",
              "    <tr>\n",
              "      <th>2011-06-01</th>\n",
              "      <td>691123.120</td>\n",
              "    </tr>\n",
              "    <tr>\n",
              "      <th>2011-07-01</th>\n",
              "      <td>681300.111</td>\n",
              "    </tr>\n",
              "    <tr>\n",
              "      <th>2011-08-01</th>\n",
              "      <td>682680.510</td>\n",
              "    </tr>\n",
              "    <tr>\n",
              "      <th>2011-09-01</th>\n",
              "      <td>1019687.622</td>\n",
              "    </tr>\n",
              "    <tr>\n",
              "      <th>2011-10-01</th>\n",
              "      <td>1070704.670</td>\n",
              "    </tr>\n",
              "    <tr>\n",
              "      <th>2011-11-01</th>\n",
              "      <td>1461756.250</td>\n",
              "    </tr>\n",
              "    <tr>\n",
              "      <th>2011-12-01</th>\n",
              "      <td>433668.010</td>\n",
              "    </tr>\n",
              "  </tbody>\n",
              "</table>\n",
              "</div>"
            ],
            "text/plain": [
              "                revenue\n",
              "month                  \n",
              "2010-12-01   748957.020\n",
              "2011-01-01   560000.260\n",
              "2011-02-01   498062.650\n",
              "2011-03-01   683267.080\n",
              "2011-04-01   493207.121\n",
              "2011-05-01   723333.510\n",
              "2011-06-01   691123.120\n",
              "2011-07-01   681300.111\n",
              "2011-08-01   682680.510\n",
              "2011-09-01  1019687.622\n",
              "2011-10-01  1070704.670\n",
              "2011-11-01  1461756.250\n",
              "2011-12-01   433668.010"
            ]
          },
          "metadata": {
            "tags": []
          },
          "execution_count": 49
        }
      ]
    },
    {
      "cell_type": "markdown",
      "metadata": {
        "id": "3EUtTb5_P_H1"
      },
      "source": [
        "Добавим флаг юзера, нового юзера, и активного юзера"
      ]
    },
    {
      "cell_type": "code",
      "metadata": {
        "id": "dNOOa905QCqI"
      },
      "source": [
        "report['user'] = 1\n",
        "report['new'] = (report['reg_month'] == report['month']) * 1\n",
        "report['active'] = (report['revenue'] > 0) * 1"
      ],
      "execution_count": null,
      "outputs": []
    },
    {
      "cell_type": "code",
      "metadata": {
        "id": "NUTXuhwOQLQl",
        "colab": {
          "base_uri": "https://localhost:8080/",
          "height": 195
        },
        "outputId": "1c07b898-77a3-4c65-a247-d348912488d7"
      },
      "source": [
        "report.head()"
      ],
      "execution_count": null,
      "outputs": [
        {
          "output_type": "execute_result",
          "data": {
            "text/html": [
              "<div>\n",
              "<style scoped>\n",
              "    .dataframe tbody tr th:only-of-type {\n",
              "        vertical-align: middle;\n",
              "    }\n",
              "\n",
              "    .dataframe tbody tr th {\n",
              "        vertical-align: top;\n",
              "    }\n",
              "\n",
              "    .dataframe thead th {\n",
              "        text-align: right;\n",
              "    }\n",
              "</style>\n",
              "<table border=\"1\" class=\"dataframe\">\n",
              "  <thead>\n",
              "    <tr style=\"text-align: right;\">\n",
              "      <th></th>\n",
              "      <th>month</th>\n",
              "      <th>key</th>\n",
              "      <th>CustomerID</th>\n",
              "      <th>reg_date</th>\n",
              "      <th>reg_month</th>\n",
              "      <th>revenue</th>\n",
              "      <th>user</th>\n",
              "      <th>new</th>\n",
              "      <th>active</th>\n",
              "    </tr>\n",
              "  </thead>\n",
              "  <tbody>\n",
              "    <tr>\n",
              "      <th>0</th>\n",
              "      <td>2010-12-01</td>\n",
              "      <td>1</td>\n",
              "      <td>-999999.0</td>\n",
              "      <td>2010-12-01 11:52:00</td>\n",
              "      <td>2010-12-01</td>\n",
              "      <td>194353.00</td>\n",
              "      <td>1</td>\n",
              "      <td>1</td>\n",
              "      <td>1</td>\n",
              "    </tr>\n",
              "    <tr>\n",
              "      <th>1</th>\n",
              "      <td>2010-12-01</td>\n",
              "      <td>1</td>\n",
              "      <td>12347.0</td>\n",
              "      <td>2010-12-07 14:57:00</td>\n",
              "      <td>2010-12-01</td>\n",
              "      <td>711.79</td>\n",
              "      <td>1</td>\n",
              "      <td>1</td>\n",
              "      <td>1</td>\n",
              "    </tr>\n",
              "    <tr>\n",
              "      <th>2</th>\n",
              "      <td>2010-12-01</td>\n",
              "      <td>1</td>\n",
              "      <td>12348.0</td>\n",
              "      <td>2010-12-16 19:09:00</td>\n",
              "      <td>2010-12-01</td>\n",
              "      <td>892.80</td>\n",
              "      <td>1</td>\n",
              "      <td>1</td>\n",
              "      <td>1</td>\n",
              "    </tr>\n",
              "    <tr>\n",
              "      <th>3</th>\n",
              "      <td>2010-12-01</td>\n",
              "      <td>1</td>\n",
              "      <td>12370.0</td>\n",
              "      <td>2010-12-14 12:58:00</td>\n",
              "      <td>2010-12-01</td>\n",
              "      <td>1868.02</td>\n",
              "      <td>1</td>\n",
              "      <td>1</td>\n",
              "      <td>1</td>\n",
              "    </tr>\n",
              "    <tr>\n",
              "      <th>4</th>\n",
              "      <td>2010-12-01</td>\n",
              "      <td>1</td>\n",
              "      <td>12377.0</td>\n",
              "      <td>2010-12-20 09:37:00</td>\n",
              "      <td>2010-12-01</td>\n",
              "      <td>1001.52</td>\n",
              "      <td>1</td>\n",
              "      <td>1</td>\n",
              "      <td>1</td>\n",
              "    </tr>\n",
              "  </tbody>\n",
              "</table>\n",
              "</div>"
            ],
            "text/plain": [
              "       month  key  CustomerID            reg_date  ...    revenue  user  new  active\n",
              "0 2010-12-01    1   -999999.0 2010-12-01 11:52:00  ...  194353.00     1    1       1\n",
              "1 2010-12-01    1     12347.0 2010-12-07 14:57:00  ...     711.79     1    1       1\n",
              "2 2010-12-01    1     12348.0 2010-12-16 19:09:00  ...     892.80     1    1       1\n",
              "3 2010-12-01    1     12370.0 2010-12-14 12:58:00  ...    1868.02     1    1       1\n",
              "4 2010-12-01    1     12377.0 2010-12-20 09:37:00  ...    1001.52     1    1       1\n",
              "\n",
              "[5 rows x 9 columns]"
            ]
          },
          "metadata": {
            "tags": []
          },
          "execution_count": 51
        }
      ]
    },
    {
      "cell_type": "code",
      "metadata": {
        "id": "9q8i-fnZQRLU",
        "colab": {
          "base_uri": "https://localhost:8080/",
          "height": 462
        },
        "outputId": "efe144c2-fde4-4542-dff1-7c33f8e2b609"
      },
      "source": [
        "report.groupby('month')[['revenue','user','new','active']].agg('sum')"
      ],
      "execution_count": null,
      "outputs": [
        {
          "output_type": "execute_result",
          "data": {
            "text/html": [
              "<div>\n",
              "<style scoped>\n",
              "    .dataframe tbody tr th:only-of-type {\n",
              "        vertical-align: middle;\n",
              "    }\n",
              "\n",
              "    .dataframe tbody tr th {\n",
              "        vertical-align: top;\n",
              "    }\n",
              "\n",
              "    .dataframe thead th {\n",
              "        text-align: right;\n",
              "    }\n",
              "</style>\n",
              "<table border=\"1\" class=\"dataframe\">\n",
              "  <thead>\n",
              "    <tr style=\"text-align: right;\">\n",
              "      <th></th>\n",
              "      <th>revenue</th>\n",
              "      <th>user</th>\n",
              "      <th>new</th>\n",
              "      <th>active</th>\n",
              "    </tr>\n",
              "    <tr>\n",
              "      <th>month</th>\n",
              "      <th></th>\n",
              "      <th></th>\n",
              "      <th></th>\n",
              "      <th></th>\n",
              "    </tr>\n",
              "  </thead>\n",
              "  <tbody>\n",
              "    <tr>\n",
              "      <th>2010-12-01</th>\n",
              "      <td>748957.020</td>\n",
              "      <td>949</td>\n",
              "      <td>949</td>\n",
              "      <td>882</td>\n",
              "    </tr>\n",
              "    <tr>\n",
              "      <th>2011-01-01</th>\n",
              "      <td>560000.260</td>\n",
              "      <td>1370</td>\n",
              "      <td>421</td>\n",
              "      <td>737</td>\n",
              "    </tr>\n",
              "    <tr>\n",
              "      <th>2011-02-01</th>\n",
              "      <td>498062.650</td>\n",
              "      <td>1750</td>\n",
              "      <td>380</td>\n",
              "      <td>754</td>\n",
              "    </tr>\n",
              "    <tr>\n",
              "      <th>2011-03-01</th>\n",
              "      <td>683267.080</td>\n",
              "      <td>2190</td>\n",
              "      <td>440</td>\n",
              "      <td>969</td>\n",
              "    </tr>\n",
              "    <tr>\n",
              "      <th>2011-04-01</th>\n",
              "      <td>493207.121</td>\n",
              "      <td>2489</td>\n",
              "      <td>299</td>\n",
              "      <td>851</td>\n",
              "    </tr>\n",
              "    <tr>\n",
              "      <th>2011-05-01</th>\n",
              "      <td>723333.510</td>\n",
              "      <td>2768</td>\n",
              "      <td>279</td>\n",
              "      <td>1053</td>\n",
              "    </tr>\n",
              "    <tr>\n",
              "      <th>2011-06-01</th>\n",
              "      <td>691123.120</td>\n",
              "      <td>3003</td>\n",
              "      <td>235</td>\n",
              "      <td>987</td>\n",
              "    </tr>\n",
              "    <tr>\n",
              "      <th>2011-07-01</th>\n",
              "      <td>681300.111</td>\n",
              "      <td>3194</td>\n",
              "      <td>191</td>\n",
              "      <td>943</td>\n",
              "    </tr>\n",
              "    <tr>\n",
              "      <th>2011-08-01</th>\n",
              "      <td>682680.510</td>\n",
              "      <td>3361</td>\n",
              "      <td>167</td>\n",
              "      <td>931</td>\n",
              "    </tr>\n",
              "    <tr>\n",
              "      <th>2011-09-01</th>\n",
              "      <td>1019687.622</td>\n",
              "      <td>3659</td>\n",
              "      <td>298</td>\n",
              "      <td>1263</td>\n",
              "    </tr>\n",
              "    <tr>\n",
              "      <th>2011-10-01</th>\n",
              "      <td>1070704.670</td>\n",
              "      <td>4011</td>\n",
              "      <td>352</td>\n",
              "      <td>1357</td>\n",
              "    </tr>\n",
              "    <tr>\n",
              "      <th>2011-11-01</th>\n",
              "      <td>1461756.250</td>\n",
              "      <td>4332</td>\n",
              "      <td>321</td>\n",
              "      <td>1659</td>\n",
              "    </tr>\n",
              "    <tr>\n",
              "      <th>2011-12-01</th>\n",
              "      <td>433668.010</td>\n",
              "      <td>4373</td>\n",
              "      <td>41</td>\n",
              "      <td>612</td>\n",
              "    </tr>\n",
              "  </tbody>\n",
              "</table>\n",
              "</div>"
            ],
            "text/plain": [
              "                revenue  user  new  active\n",
              "month                                     \n",
              "2010-12-01   748957.020   949  949     882\n",
              "2011-01-01   560000.260  1370  421     737\n",
              "2011-02-01   498062.650  1750  380     754\n",
              "2011-03-01   683267.080  2190  440     969\n",
              "2011-04-01   493207.121  2489  299     851\n",
              "2011-05-01   723333.510  2768  279    1053\n",
              "2011-06-01   691123.120  3003  235     987\n",
              "2011-07-01   681300.111  3194  191     943\n",
              "2011-08-01   682680.510  3361  167     931\n",
              "2011-09-01  1019687.622  3659  298    1263\n",
              "2011-10-01  1070704.670  4011  352    1357\n",
              "2011-11-01  1461756.250  4332  321    1659\n",
              "2011-12-01   433668.010  4373   41     612"
            ]
          },
          "metadata": {
            "tags": []
          },
          "execution_count": 52
        }
      ]
    },
    {
      "cell_type": "markdown",
      "metadata": {
        "id": "ZhkyIFZe8XMp"
      },
      "source": [
        "Средние продажи на клиента"
      ]
    },
    {
      "cell_type": "code",
      "metadata": {
        "id": "0LvKwqD28bi-"
      },
      "source": [
        "t = report.groupby('month')[['revenue','user','new','active']].agg('sum')"
      ],
      "execution_count": null,
      "outputs": []
    },
    {
      "cell_type": "code",
      "metadata": {
        "id": "kTRRAWYO8g-Y"
      },
      "source": [
        "t['sales_per_customer'] = t['revenue'] / t['active']"
      ],
      "execution_count": null,
      "outputs": []
    },
    {
      "cell_type": "code",
      "metadata": {
        "id": "KLMZJ9wa8uGS",
        "colab": {
          "base_uri": "https://localhost:8080/",
          "height": 462
        },
        "outputId": "cd930f0d-ae6c-47f1-b25d-0ca8b94aa025"
      },
      "source": [
        "t"
      ],
      "execution_count": null,
      "outputs": [
        {
          "output_type": "execute_result",
          "data": {
            "text/html": [
              "<div>\n",
              "<style scoped>\n",
              "    .dataframe tbody tr th:only-of-type {\n",
              "        vertical-align: middle;\n",
              "    }\n",
              "\n",
              "    .dataframe tbody tr th {\n",
              "        vertical-align: top;\n",
              "    }\n",
              "\n",
              "    .dataframe thead th {\n",
              "        text-align: right;\n",
              "    }\n",
              "</style>\n",
              "<table border=\"1\" class=\"dataframe\">\n",
              "  <thead>\n",
              "    <tr style=\"text-align: right;\">\n",
              "      <th></th>\n",
              "      <th>revenue</th>\n",
              "      <th>user</th>\n",
              "      <th>new</th>\n",
              "      <th>active</th>\n",
              "      <th>sales_per_customer</th>\n",
              "    </tr>\n",
              "    <tr>\n",
              "      <th>month</th>\n",
              "      <th></th>\n",
              "      <th></th>\n",
              "      <th></th>\n",
              "      <th></th>\n",
              "      <th></th>\n",
              "    </tr>\n",
              "  </thead>\n",
              "  <tbody>\n",
              "    <tr>\n",
              "      <th>2010-12-01</th>\n",
              "      <td>748957.020</td>\n",
              "      <td>949</td>\n",
              "      <td>949</td>\n",
              "      <td>882</td>\n",
              "      <td>849.157619</td>\n",
              "    </tr>\n",
              "    <tr>\n",
              "      <th>2011-01-01</th>\n",
              "      <td>560000.260</td>\n",
              "      <td>1370</td>\n",
              "      <td>421</td>\n",
              "      <td>737</td>\n",
              "      <td>759.837531</td>\n",
              "    </tr>\n",
              "    <tr>\n",
              "      <th>2011-02-01</th>\n",
              "      <td>498062.650</td>\n",
              "      <td>1750</td>\n",
              "      <td>380</td>\n",
              "      <td>754</td>\n",
              "      <td>660.560544</td>\n",
              "    </tr>\n",
              "    <tr>\n",
              "      <th>2011-03-01</th>\n",
              "      <td>683267.080</td>\n",
              "      <td>2190</td>\n",
              "      <td>440</td>\n",
              "      <td>969</td>\n",
              "      <td>705.125986</td>\n",
              "    </tr>\n",
              "    <tr>\n",
              "      <th>2011-04-01</th>\n",
              "      <td>493207.121</td>\n",
              "      <td>2489</td>\n",
              "      <td>299</td>\n",
              "      <td>851</td>\n",
              "      <td>579.561834</td>\n",
              "    </tr>\n",
              "    <tr>\n",
              "      <th>2011-05-01</th>\n",
              "      <td>723333.510</td>\n",
              "      <td>2768</td>\n",
              "      <td>279</td>\n",
              "      <td>1053</td>\n",
              "      <td>686.926410</td>\n",
              "    </tr>\n",
              "    <tr>\n",
              "      <th>2011-06-01</th>\n",
              "      <td>691123.120</td>\n",
              "      <td>3003</td>\n",
              "      <td>235</td>\n",
              "      <td>987</td>\n",
              "      <td>700.226059</td>\n",
              "    </tr>\n",
              "    <tr>\n",
              "      <th>2011-07-01</th>\n",
              "      <td>681300.111</td>\n",
              "      <td>3194</td>\n",
              "      <td>191</td>\n",
              "      <td>943</td>\n",
              "      <td>722.481560</td>\n",
              "    </tr>\n",
              "    <tr>\n",
              "      <th>2011-08-01</th>\n",
              "      <td>682680.510</td>\n",
              "      <td>3361</td>\n",
              "      <td>167</td>\n",
              "      <td>931</td>\n",
              "      <td>733.276595</td>\n",
              "    </tr>\n",
              "    <tr>\n",
              "      <th>2011-09-01</th>\n",
              "      <td>1019687.622</td>\n",
              "      <td>3659</td>\n",
              "      <td>298</td>\n",
              "      <td>1263</td>\n",
              "      <td>807.353620</td>\n",
              "    </tr>\n",
              "    <tr>\n",
              "      <th>2011-10-01</th>\n",
              "      <td>1070704.670</td>\n",
              "      <td>4011</td>\n",
              "      <td>352</td>\n",
              "      <td>1357</td>\n",
              "      <td>789.023338</td>\n",
              "    </tr>\n",
              "    <tr>\n",
              "      <th>2011-11-01</th>\n",
              "      <td>1461756.250</td>\n",
              "      <td>4332</td>\n",
              "      <td>321</td>\n",
              "      <td>1659</td>\n",
              "      <td>881.106841</td>\n",
              "    </tr>\n",
              "    <tr>\n",
              "      <th>2011-12-01</th>\n",
              "      <td>433668.010</td>\n",
              "      <td>4373</td>\n",
              "      <td>41</td>\n",
              "      <td>612</td>\n",
              "      <td>708.607859</td>\n",
              "    </tr>\n",
              "  </tbody>\n",
              "</table>\n",
              "</div>"
            ],
            "text/plain": [
              "                revenue  user  new  active  sales_per_customer\n",
              "month                                                         \n",
              "2010-12-01   748957.020   949  949     882          849.157619\n",
              "2011-01-01   560000.260  1370  421     737          759.837531\n",
              "2011-02-01   498062.650  1750  380     754          660.560544\n",
              "2011-03-01   683267.080  2190  440     969          705.125986\n",
              "2011-04-01   493207.121  2489  299     851          579.561834\n",
              "2011-05-01   723333.510  2768  279    1053          686.926410\n",
              "2011-06-01   691123.120  3003  235     987          700.226059\n",
              "2011-07-01   681300.111  3194  191     943          722.481560\n",
              "2011-08-01   682680.510  3361  167     931          733.276595\n",
              "2011-09-01  1019687.622  3659  298    1263          807.353620\n",
              "2011-10-01  1070704.670  4011  352    1357          789.023338\n",
              "2011-11-01  1461756.250  4332  321    1659          881.106841\n",
              "2011-12-01   433668.010  4373   41     612          708.607859"
            ]
          },
          "metadata": {
            "tags": []
          },
          "execution_count": 55
        }
      ]
    },
    {
      "cell_type": "markdown",
      "metadata": {
        "id": "Yt_ZZMKSJGdV"
      },
      "source": [
        "# 6. Отток"
      ]
    },
    {
      "cell_type": "markdown",
      "metadata": {
        "id": "K_wbqfIT9pUt"
      },
      "source": [
        "Таким же образом можно рассчитать метрики по оттоку. Например количество клиентов которые не активны 1,2,3,...,n месяцев. Я буду проверять всю логику на одном клиенте."
      ]
    },
    {
      "cell_type": "code",
      "metadata": {
        "id": "4eHNaIF79oL2",
        "colab": {
          "base_uri": "https://localhost:8080/",
          "height": 432
        },
        "outputId": "0ccb4eb7-b771-4839-b1de-f5e4e515451f"
      },
      "source": [
        "report[report['CustomerID'] == 12347.0]"
      ],
      "execution_count": null,
      "outputs": [
        {
          "output_type": "execute_result",
          "data": {
            "text/html": [
              "<div>\n",
              "<style scoped>\n",
              "    .dataframe tbody tr th:only-of-type {\n",
              "        vertical-align: middle;\n",
              "    }\n",
              "\n",
              "    .dataframe tbody tr th {\n",
              "        vertical-align: top;\n",
              "    }\n",
              "\n",
              "    .dataframe thead th {\n",
              "        text-align: right;\n",
              "    }\n",
              "</style>\n",
              "<table border=\"1\" class=\"dataframe\">\n",
              "  <thead>\n",
              "    <tr style=\"text-align: right;\">\n",
              "      <th></th>\n",
              "      <th>month</th>\n",
              "      <th>key</th>\n",
              "      <th>CustomerID</th>\n",
              "      <th>reg_date</th>\n",
              "      <th>reg_month</th>\n",
              "      <th>revenue</th>\n",
              "      <th>user</th>\n",
              "      <th>new</th>\n",
              "      <th>active</th>\n",
              "    </tr>\n",
              "  </thead>\n",
              "  <tbody>\n",
              "    <tr>\n",
              "      <th>1</th>\n",
              "      <td>2010-12-01</td>\n",
              "      <td>1</td>\n",
              "      <td>12347.0</td>\n",
              "      <td>2010-12-07 14:57:00</td>\n",
              "      <td>2010-12-01</td>\n",
              "      <td>711.79</td>\n",
              "      <td>1</td>\n",
              "      <td>1</td>\n",
              "      <td>1</td>\n",
              "    </tr>\n",
              "    <tr>\n",
              "      <th>951</th>\n",
              "      <td>2011-01-01</td>\n",
              "      <td>1</td>\n",
              "      <td>12347.0</td>\n",
              "      <td>2010-12-07 14:57:00</td>\n",
              "      <td>2010-12-01</td>\n",
              "      <td>475.39</td>\n",
              "      <td>1</td>\n",
              "      <td>0</td>\n",
              "      <td>1</td>\n",
              "    </tr>\n",
              "    <tr>\n",
              "      <th>2321</th>\n",
              "      <td>2011-02-01</td>\n",
              "      <td>1</td>\n",
              "      <td>12347.0</td>\n",
              "      <td>2010-12-07 14:57:00</td>\n",
              "      <td>2010-12-01</td>\n",
              "      <td>NaN</td>\n",
              "      <td>1</td>\n",
              "      <td>0</td>\n",
              "      <td>0</td>\n",
              "    </tr>\n",
              "    <tr>\n",
              "      <th>4071</th>\n",
              "      <td>2011-03-01</td>\n",
              "      <td>1</td>\n",
              "      <td>12347.0</td>\n",
              "      <td>2010-12-07 14:57:00</td>\n",
              "      <td>2010-12-01</td>\n",
              "      <td>NaN</td>\n",
              "      <td>1</td>\n",
              "      <td>0</td>\n",
              "      <td>0</td>\n",
              "    </tr>\n",
              "    <tr>\n",
              "      <th>6261</th>\n",
              "      <td>2011-04-01</td>\n",
              "      <td>1</td>\n",
              "      <td>12347.0</td>\n",
              "      <td>2010-12-07 14:57:00</td>\n",
              "      <td>2010-12-01</td>\n",
              "      <td>636.25</td>\n",
              "      <td>1</td>\n",
              "      <td>0</td>\n",
              "      <td>1</td>\n",
              "    </tr>\n",
              "    <tr>\n",
              "      <th>8750</th>\n",
              "      <td>2011-05-01</td>\n",
              "      <td>1</td>\n",
              "      <td>12347.0</td>\n",
              "      <td>2010-12-07 14:57:00</td>\n",
              "      <td>2010-12-01</td>\n",
              "      <td>NaN</td>\n",
              "      <td>1</td>\n",
              "      <td>0</td>\n",
              "      <td>0</td>\n",
              "    </tr>\n",
              "    <tr>\n",
              "      <th>11518</th>\n",
              "      <td>2011-06-01</td>\n",
              "      <td>1</td>\n",
              "      <td>12347.0</td>\n",
              "      <td>2010-12-07 14:57:00</td>\n",
              "      <td>2010-12-01</td>\n",
              "      <td>382.52</td>\n",
              "      <td>1</td>\n",
              "      <td>0</td>\n",
              "      <td>1</td>\n",
              "    </tr>\n",
              "    <tr>\n",
              "      <th>14521</th>\n",
              "      <td>2011-07-01</td>\n",
              "      <td>1</td>\n",
              "      <td>12347.0</td>\n",
              "      <td>2010-12-07 14:57:00</td>\n",
              "      <td>2010-12-01</td>\n",
              "      <td>NaN</td>\n",
              "      <td>1</td>\n",
              "      <td>0</td>\n",
              "      <td>0</td>\n",
              "    </tr>\n",
              "    <tr>\n",
              "      <th>17715</th>\n",
              "      <td>2011-08-01</td>\n",
              "      <td>1</td>\n",
              "      <td>12347.0</td>\n",
              "      <td>2010-12-07 14:57:00</td>\n",
              "      <td>2010-12-01</td>\n",
              "      <td>584.91</td>\n",
              "      <td>1</td>\n",
              "      <td>0</td>\n",
              "      <td>1</td>\n",
              "    </tr>\n",
              "    <tr>\n",
              "      <th>21076</th>\n",
              "      <td>2011-09-01</td>\n",
              "      <td>1</td>\n",
              "      <td>12347.0</td>\n",
              "      <td>2010-12-07 14:57:00</td>\n",
              "      <td>2010-12-01</td>\n",
              "      <td>NaN</td>\n",
              "      <td>1</td>\n",
              "      <td>0</td>\n",
              "      <td>0</td>\n",
              "    </tr>\n",
              "    <tr>\n",
              "      <th>24735</th>\n",
              "      <td>2011-10-01</td>\n",
              "      <td>1</td>\n",
              "      <td>12347.0</td>\n",
              "      <td>2010-12-07 14:57:00</td>\n",
              "      <td>2010-12-01</td>\n",
              "      <td>1294.32</td>\n",
              "      <td>1</td>\n",
              "      <td>0</td>\n",
              "      <td>1</td>\n",
              "    </tr>\n",
              "    <tr>\n",
              "      <th>28746</th>\n",
              "      <td>2011-11-01</td>\n",
              "      <td>1</td>\n",
              "      <td>12347.0</td>\n",
              "      <td>2010-12-07 14:57:00</td>\n",
              "      <td>2010-12-01</td>\n",
              "      <td>NaN</td>\n",
              "      <td>1</td>\n",
              "      <td>0</td>\n",
              "      <td>0</td>\n",
              "    </tr>\n",
              "    <tr>\n",
              "      <th>33078</th>\n",
              "      <td>2011-12-01</td>\n",
              "      <td>1</td>\n",
              "      <td>12347.0</td>\n",
              "      <td>2010-12-07 14:57:00</td>\n",
              "      <td>2010-12-01</td>\n",
              "      <td>224.82</td>\n",
              "      <td>1</td>\n",
              "      <td>0</td>\n",
              "      <td>1</td>\n",
              "    </tr>\n",
              "  </tbody>\n",
              "</table>\n",
              "</div>"
            ],
            "text/plain": [
              "           month  key  CustomerID  ... user new  active\n",
              "1     2010-12-01    1     12347.0  ...    1   1       1\n",
              "951   2011-01-01    1     12347.0  ...    1   0       1\n",
              "2321  2011-02-01    1     12347.0  ...    1   0       0\n",
              "4071  2011-03-01    1     12347.0  ...    1   0       0\n",
              "6261  2011-04-01    1     12347.0  ...    1   0       1\n",
              "8750  2011-05-01    1     12347.0  ...    1   0       0\n",
              "11518 2011-06-01    1     12347.0  ...    1   0       1\n",
              "14521 2011-07-01    1     12347.0  ...    1   0       0\n",
              "17715 2011-08-01    1     12347.0  ...    1   0       1\n",
              "21076 2011-09-01    1     12347.0  ...    1   0       0\n",
              "24735 2011-10-01    1     12347.0  ...    1   0       1\n",
              "28746 2011-11-01    1     12347.0  ...    1   0       0\n",
              "33078 2011-12-01    1     12347.0  ...    1   0       1\n",
              "\n",
              "[13 rows x 9 columns]"
            ]
          },
          "metadata": {
            "tags": []
          },
          "execution_count": 56
        }
      ]
    },
    {
      "cell_type": "markdown",
      "metadata": {
        "id": "Em-VNhf-Kuay"
      },
      "source": [
        "На каждого клиента я хочу посмотреть был ли он активен в предыдущем месяце.\n"
      ]
    },
    {
      "cell_type": "code",
      "metadata": {
        "id": "Ms-ZBwxsECpd"
      },
      "source": [
        "report['active_prev'] = (report.sort_values(by=['month'], ascending=True)\n",
        "                       .groupby(['CustomerID'])['active'].shift(1))"
      ],
      "execution_count": null,
      "outputs": []
    },
    {
      "cell_type": "markdown",
      "metadata": {
        "id": "YAL6Ylq6LZTx"
      },
      "source": [
        "Вот эта дичь это типа как оконная функция в sql. У меня много клиентов и мне надо как-то объяснить пандасу, чтобы он рассчитал активность в предыдущем месяце для каждого клиента в отдельности -- для этого тут groupby. Также я хочу чтобы месяцы шли по порядку -- для этого sort_values. Ну и shift уже дает мне активность в предыдущем месяце"
      ]
    },
    {
      "cell_type": "code",
      "metadata": {
        "id": "qGBeVLI8FAfq",
        "colab": {
          "base_uri": "https://localhost:8080/",
          "height": 432
        },
        "outputId": "fa83149e-9f18-46b4-e625-57f3ee1faa10"
      },
      "source": [
        "report[report['CustomerID'] == 12347.0]"
      ],
      "execution_count": null,
      "outputs": [
        {
          "output_type": "execute_result",
          "data": {
            "text/html": [
              "<div>\n",
              "<style scoped>\n",
              "    .dataframe tbody tr th:only-of-type {\n",
              "        vertical-align: middle;\n",
              "    }\n",
              "\n",
              "    .dataframe tbody tr th {\n",
              "        vertical-align: top;\n",
              "    }\n",
              "\n",
              "    .dataframe thead th {\n",
              "        text-align: right;\n",
              "    }\n",
              "</style>\n",
              "<table border=\"1\" class=\"dataframe\">\n",
              "  <thead>\n",
              "    <tr style=\"text-align: right;\">\n",
              "      <th></th>\n",
              "      <th>month</th>\n",
              "      <th>key</th>\n",
              "      <th>CustomerID</th>\n",
              "      <th>reg_date</th>\n",
              "      <th>reg_month</th>\n",
              "      <th>revenue</th>\n",
              "      <th>user</th>\n",
              "      <th>new</th>\n",
              "      <th>active</th>\n",
              "      <th>active_prev</th>\n",
              "    </tr>\n",
              "  </thead>\n",
              "  <tbody>\n",
              "    <tr>\n",
              "      <th>1</th>\n",
              "      <td>2010-12-01</td>\n",
              "      <td>1</td>\n",
              "      <td>12347.0</td>\n",
              "      <td>2010-12-07 14:57:00</td>\n",
              "      <td>2010-12-01</td>\n",
              "      <td>711.79</td>\n",
              "      <td>1</td>\n",
              "      <td>1</td>\n",
              "      <td>1</td>\n",
              "      <td>NaN</td>\n",
              "    </tr>\n",
              "    <tr>\n",
              "      <th>951</th>\n",
              "      <td>2011-01-01</td>\n",
              "      <td>1</td>\n",
              "      <td>12347.0</td>\n",
              "      <td>2010-12-07 14:57:00</td>\n",
              "      <td>2010-12-01</td>\n",
              "      <td>475.39</td>\n",
              "      <td>1</td>\n",
              "      <td>0</td>\n",
              "      <td>1</td>\n",
              "      <td>1.0</td>\n",
              "    </tr>\n",
              "    <tr>\n",
              "      <th>2321</th>\n",
              "      <td>2011-02-01</td>\n",
              "      <td>1</td>\n",
              "      <td>12347.0</td>\n",
              "      <td>2010-12-07 14:57:00</td>\n",
              "      <td>2010-12-01</td>\n",
              "      <td>NaN</td>\n",
              "      <td>1</td>\n",
              "      <td>0</td>\n",
              "      <td>0</td>\n",
              "      <td>1.0</td>\n",
              "    </tr>\n",
              "    <tr>\n",
              "      <th>4071</th>\n",
              "      <td>2011-03-01</td>\n",
              "      <td>1</td>\n",
              "      <td>12347.0</td>\n",
              "      <td>2010-12-07 14:57:00</td>\n",
              "      <td>2010-12-01</td>\n",
              "      <td>NaN</td>\n",
              "      <td>1</td>\n",
              "      <td>0</td>\n",
              "      <td>0</td>\n",
              "      <td>0.0</td>\n",
              "    </tr>\n",
              "    <tr>\n",
              "      <th>6261</th>\n",
              "      <td>2011-04-01</td>\n",
              "      <td>1</td>\n",
              "      <td>12347.0</td>\n",
              "      <td>2010-12-07 14:57:00</td>\n",
              "      <td>2010-12-01</td>\n",
              "      <td>636.25</td>\n",
              "      <td>1</td>\n",
              "      <td>0</td>\n",
              "      <td>1</td>\n",
              "      <td>0.0</td>\n",
              "    </tr>\n",
              "    <tr>\n",
              "      <th>8750</th>\n",
              "      <td>2011-05-01</td>\n",
              "      <td>1</td>\n",
              "      <td>12347.0</td>\n",
              "      <td>2010-12-07 14:57:00</td>\n",
              "      <td>2010-12-01</td>\n",
              "      <td>NaN</td>\n",
              "      <td>1</td>\n",
              "      <td>0</td>\n",
              "      <td>0</td>\n",
              "      <td>1.0</td>\n",
              "    </tr>\n",
              "    <tr>\n",
              "      <th>11518</th>\n",
              "      <td>2011-06-01</td>\n",
              "      <td>1</td>\n",
              "      <td>12347.0</td>\n",
              "      <td>2010-12-07 14:57:00</td>\n",
              "      <td>2010-12-01</td>\n",
              "      <td>382.52</td>\n",
              "      <td>1</td>\n",
              "      <td>0</td>\n",
              "      <td>1</td>\n",
              "      <td>0.0</td>\n",
              "    </tr>\n",
              "    <tr>\n",
              "      <th>14521</th>\n",
              "      <td>2011-07-01</td>\n",
              "      <td>1</td>\n",
              "      <td>12347.0</td>\n",
              "      <td>2010-12-07 14:57:00</td>\n",
              "      <td>2010-12-01</td>\n",
              "      <td>NaN</td>\n",
              "      <td>1</td>\n",
              "      <td>0</td>\n",
              "      <td>0</td>\n",
              "      <td>1.0</td>\n",
              "    </tr>\n",
              "    <tr>\n",
              "      <th>17715</th>\n",
              "      <td>2011-08-01</td>\n",
              "      <td>1</td>\n",
              "      <td>12347.0</td>\n",
              "      <td>2010-12-07 14:57:00</td>\n",
              "      <td>2010-12-01</td>\n",
              "      <td>584.91</td>\n",
              "      <td>1</td>\n",
              "      <td>0</td>\n",
              "      <td>1</td>\n",
              "      <td>0.0</td>\n",
              "    </tr>\n",
              "    <tr>\n",
              "      <th>21076</th>\n",
              "      <td>2011-09-01</td>\n",
              "      <td>1</td>\n",
              "      <td>12347.0</td>\n",
              "      <td>2010-12-07 14:57:00</td>\n",
              "      <td>2010-12-01</td>\n",
              "      <td>NaN</td>\n",
              "      <td>1</td>\n",
              "      <td>0</td>\n",
              "      <td>0</td>\n",
              "      <td>1.0</td>\n",
              "    </tr>\n",
              "    <tr>\n",
              "      <th>24735</th>\n",
              "      <td>2011-10-01</td>\n",
              "      <td>1</td>\n",
              "      <td>12347.0</td>\n",
              "      <td>2010-12-07 14:57:00</td>\n",
              "      <td>2010-12-01</td>\n",
              "      <td>1294.32</td>\n",
              "      <td>1</td>\n",
              "      <td>0</td>\n",
              "      <td>1</td>\n",
              "      <td>0.0</td>\n",
              "    </tr>\n",
              "    <tr>\n",
              "      <th>28746</th>\n",
              "      <td>2011-11-01</td>\n",
              "      <td>1</td>\n",
              "      <td>12347.0</td>\n",
              "      <td>2010-12-07 14:57:00</td>\n",
              "      <td>2010-12-01</td>\n",
              "      <td>NaN</td>\n",
              "      <td>1</td>\n",
              "      <td>0</td>\n",
              "      <td>0</td>\n",
              "      <td>1.0</td>\n",
              "    </tr>\n",
              "    <tr>\n",
              "      <th>33078</th>\n",
              "      <td>2011-12-01</td>\n",
              "      <td>1</td>\n",
              "      <td>12347.0</td>\n",
              "      <td>2010-12-07 14:57:00</td>\n",
              "      <td>2010-12-01</td>\n",
              "      <td>224.82</td>\n",
              "      <td>1</td>\n",
              "      <td>0</td>\n",
              "      <td>1</td>\n",
              "      <td>0.0</td>\n",
              "    </tr>\n",
              "  </tbody>\n",
              "</table>\n",
              "</div>"
            ],
            "text/plain": [
              "           month  key  CustomerID  ... new active  active_prev\n",
              "1     2010-12-01    1     12347.0  ...   1      1          NaN\n",
              "951   2011-01-01    1     12347.0  ...   0      1          1.0\n",
              "2321  2011-02-01    1     12347.0  ...   0      0          1.0\n",
              "4071  2011-03-01    1     12347.0  ...   0      0          0.0\n",
              "6261  2011-04-01    1     12347.0  ...   0      1          0.0\n",
              "8750  2011-05-01    1     12347.0  ...   0      0          1.0\n",
              "11518 2011-06-01    1     12347.0  ...   0      1          0.0\n",
              "14521 2011-07-01    1     12347.0  ...   0      0          1.0\n",
              "17715 2011-08-01    1     12347.0  ...   0      1          0.0\n",
              "21076 2011-09-01    1     12347.0  ...   0      0          1.0\n",
              "24735 2011-10-01    1     12347.0  ...   0      1          0.0\n",
              "28746 2011-11-01    1     12347.0  ...   0      0          1.0\n",
              "33078 2011-12-01    1     12347.0  ...   0      1          0.0\n",
              "\n",
              "[13 rows x 10 columns]"
            ]
          },
          "metadata": {
            "tags": []
          },
          "execution_count": 58
        }
      ]
    },
    {
      "cell_type": "markdown",
      "metadata": {
        "id": "2zI4K9fWL_zm"
      },
      "source": [
        "Похоже на правду. Сравни active с active_prev. Теперь я хочу понять в какие месяца клиент менял статус с активного на неактивного и наоборот."
      ]
    },
    {
      "cell_type": "code",
      "metadata": {
        "id": "vHpGONHHDOFl"
      },
      "source": [
        "report['change_status'] = (report['active'] != report['active_prev']) * 1"
      ],
      "execution_count": null,
      "outputs": []
    },
    {
      "cell_type": "code",
      "metadata": {
        "id": "GD3r5-unACjs",
        "colab": {
          "base_uri": "https://localhost:8080/",
          "height": 432
        },
        "outputId": "52ac1a14-97da-47f7-e967-c18f6019b62a"
      },
      "source": [
        "report[report['CustomerID'] == 12347.0]"
      ],
      "execution_count": null,
      "outputs": [
        {
          "output_type": "execute_result",
          "data": {
            "text/html": [
              "<div>\n",
              "<style scoped>\n",
              "    .dataframe tbody tr th:only-of-type {\n",
              "        vertical-align: middle;\n",
              "    }\n",
              "\n",
              "    .dataframe tbody tr th {\n",
              "        vertical-align: top;\n",
              "    }\n",
              "\n",
              "    .dataframe thead th {\n",
              "        text-align: right;\n",
              "    }\n",
              "</style>\n",
              "<table border=\"1\" class=\"dataframe\">\n",
              "  <thead>\n",
              "    <tr style=\"text-align: right;\">\n",
              "      <th></th>\n",
              "      <th>month</th>\n",
              "      <th>key</th>\n",
              "      <th>CustomerID</th>\n",
              "      <th>reg_date</th>\n",
              "      <th>reg_month</th>\n",
              "      <th>revenue</th>\n",
              "      <th>user</th>\n",
              "      <th>new</th>\n",
              "      <th>active</th>\n",
              "      <th>active_prev</th>\n",
              "      <th>change_status</th>\n",
              "    </tr>\n",
              "  </thead>\n",
              "  <tbody>\n",
              "    <tr>\n",
              "      <th>1</th>\n",
              "      <td>2010-12-01</td>\n",
              "      <td>1</td>\n",
              "      <td>12347.0</td>\n",
              "      <td>2010-12-07 14:57:00</td>\n",
              "      <td>2010-12-01</td>\n",
              "      <td>711.79</td>\n",
              "      <td>1</td>\n",
              "      <td>1</td>\n",
              "      <td>1</td>\n",
              "      <td>NaN</td>\n",
              "      <td>1</td>\n",
              "    </tr>\n",
              "    <tr>\n",
              "      <th>951</th>\n",
              "      <td>2011-01-01</td>\n",
              "      <td>1</td>\n",
              "      <td>12347.0</td>\n",
              "      <td>2010-12-07 14:57:00</td>\n",
              "      <td>2010-12-01</td>\n",
              "      <td>475.39</td>\n",
              "      <td>1</td>\n",
              "      <td>0</td>\n",
              "      <td>1</td>\n",
              "      <td>1.0</td>\n",
              "      <td>0</td>\n",
              "    </tr>\n",
              "    <tr>\n",
              "      <th>2321</th>\n",
              "      <td>2011-02-01</td>\n",
              "      <td>1</td>\n",
              "      <td>12347.0</td>\n",
              "      <td>2010-12-07 14:57:00</td>\n",
              "      <td>2010-12-01</td>\n",
              "      <td>NaN</td>\n",
              "      <td>1</td>\n",
              "      <td>0</td>\n",
              "      <td>0</td>\n",
              "      <td>1.0</td>\n",
              "      <td>1</td>\n",
              "    </tr>\n",
              "    <tr>\n",
              "      <th>4071</th>\n",
              "      <td>2011-03-01</td>\n",
              "      <td>1</td>\n",
              "      <td>12347.0</td>\n",
              "      <td>2010-12-07 14:57:00</td>\n",
              "      <td>2010-12-01</td>\n",
              "      <td>NaN</td>\n",
              "      <td>1</td>\n",
              "      <td>0</td>\n",
              "      <td>0</td>\n",
              "      <td>0.0</td>\n",
              "      <td>0</td>\n",
              "    </tr>\n",
              "    <tr>\n",
              "      <th>6261</th>\n",
              "      <td>2011-04-01</td>\n",
              "      <td>1</td>\n",
              "      <td>12347.0</td>\n",
              "      <td>2010-12-07 14:57:00</td>\n",
              "      <td>2010-12-01</td>\n",
              "      <td>636.25</td>\n",
              "      <td>1</td>\n",
              "      <td>0</td>\n",
              "      <td>1</td>\n",
              "      <td>0.0</td>\n",
              "      <td>1</td>\n",
              "    </tr>\n",
              "    <tr>\n",
              "      <th>8750</th>\n",
              "      <td>2011-05-01</td>\n",
              "      <td>1</td>\n",
              "      <td>12347.0</td>\n",
              "      <td>2010-12-07 14:57:00</td>\n",
              "      <td>2010-12-01</td>\n",
              "      <td>NaN</td>\n",
              "      <td>1</td>\n",
              "      <td>0</td>\n",
              "      <td>0</td>\n",
              "      <td>1.0</td>\n",
              "      <td>1</td>\n",
              "    </tr>\n",
              "    <tr>\n",
              "      <th>11518</th>\n",
              "      <td>2011-06-01</td>\n",
              "      <td>1</td>\n",
              "      <td>12347.0</td>\n",
              "      <td>2010-12-07 14:57:00</td>\n",
              "      <td>2010-12-01</td>\n",
              "      <td>382.52</td>\n",
              "      <td>1</td>\n",
              "      <td>0</td>\n",
              "      <td>1</td>\n",
              "      <td>0.0</td>\n",
              "      <td>1</td>\n",
              "    </tr>\n",
              "    <tr>\n",
              "      <th>14521</th>\n",
              "      <td>2011-07-01</td>\n",
              "      <td>1</td>\n",
              "      <td>12347.0</td>\n",
              "      <td>2010-12-07 14:57:00</td>\n",
              "      <td>2010-12-01</td>\n",
              "      <td>NaN</td>\n",
              "      <td>1</td>\n",
              "      <td>0</td>\n",
              "      <td>0</td>\n",
              "      <td>1.0</td>\n",
              "      <td>1</td>\n",
              "    </tr>\n",
              "    <tr>\n",
              "      <th>17715</th>\n",
              "      <td>2011-08-01</td>\n",
              "      <td>1</td>\n",
              "      <td>12347.0</td>\n",
              "      <td>2010-12-07 14:57:00</td>\n",
              "      <td>2010-12-01</td>\n",
              "      <td>584.91</td>\n",
              "      <td>1</td>\n",
              "      <td>0</td>\n",
              "      <td>1</td>\n",
              "      <td>0.0</td>\n",
              "      <td>1</td>\n",
              "    </tr>\n",
              "    <tr>\n",
              "      <th>21076</th>\n",
              "      <td>2011-09-01</td>\n",
              "      <td>1</td>\n",
              "      <td>12347.0</td>\n",
              "      <td>2010-12-07 14:57:00</td>\n",
              "      <td>2010-12-01</td>\n",
              "      <td>NaN</td>\n",
              "      <td>1</td>\n",
              "      <td>0</td>\n",
              "      <td>0</td>\n",
              "      <td>1.0</td>\n",
              "      <td>1</td>\n",
              "    </tr>\n",
              "    <tr>\n",
              "      <th>24735</th>\n",
              "      <td>2011-10-01</td>\n",
              "      <td>1</td>\n",
              "      <td>12347.0</td>\n",
              "      <td>2010-12-07 14:57:00</td>\n",
              "      <td>2010-12-01</td>\n",
              "      <td>1294.32</td>\n",
              "      <td>1</td>\n",
              "      <td>0</td>\n",
              "      <td>1</td>\n",
              "      <td>0.0</td>\n",
              "      <td>1</td>\n",
              "    </tr>\n",
              "    <tr>\n",
              "      <th>28746</th>\n",
              "      <td>2011-11-01</td>\n",
              "      <td>1</td>\n",
              "      <td>12347.0</td>\n",
              "      <td>2010-12-07 14:57:00</td>\n",
              "      <td>2010-12-01</td>\n",
              "      <td>NaN</td>\n",
              "      <td>1</td>\n",
              "      <td>0</td>\n",
              "      <td>0</td>\n",
              "      <td>1.0</td>\n",
              "      <td>1</td>\n",
              "    </tr>\n",
              "    <tr>\n",
              "      <th>33078</th>\n",
              "      <td>2011-12-01</td>\n",
              "      <td>1</td>\n",
              "      <td>12347.0</td>\n",
              "      <td>2010-12-07 14:57:00</td>\n",
              "      <td>2010-12-01</td>\n",
              "      <td>224.82</td>\n",
              "      <td>1</td>\n",
              "      <td>0</td>\n",
              "      <td>1</td>\n",
              "      <td>0.0</td>\n",
              "      <td>1</td>\n",
              "    </tr>\n",
              "  </tbody>\n",
              "</table>\n",
              "</div>"
            ],
            "text/plain": [
              "           month  key  CustomerID  ... active active_prev  change_status\n",
              "1     2010-12-01    1     12347.0  ...      1         NaN              1\n",
              "951   2011-01-01    1     12347.0  ...      1         1.0              0\n",
              "2321  2011-02-01    1     12347.0  ...      0         1.0              1\n",
              "4071  2011-03-01    1     12347.0  ...      0         0.0              0\n",
              "6261  2011-04-01    1     12347.0  ...      1         0.0              1\n",
              "8750  2011-05-01    1     12347.0  ...      0         1.0              1\n",
              "11518 2011-06-01    1     12347.0  ...      1         0.0              1\n",
              "14521 2011-07-01    1     12347.0  ...      0         1.0              1\n",
              "17715 2011-08-01    1     12347.0  ...      1         0.0              1\n",
              "21076 2011-09-01    1     12347.0  ...      0         1.0              1\n",
              "24735 2011-10-01    1     12347.0  ...      1         0.0              1\n",
              "28746 2011-11-01    1     12347.0  ...      0         1.0              1\n",
              "33078 2011-12-01    1     12347.0  ...      1         0.0              1\n",
              "\n",
              "[13 rows x 11 columns]"
            ]
          },
          "metadata": {
            "tags": []
          },
          "execution_count": 60
        }
      ]
    },
    {
      "cell_type": "markdown",
      "metadata": {
        "id": "HajrFJB0Mcmk"
      },
      "source": [
        "Супер. Теперь я хочу назначить айдишку каждому изменению статуса. И здесь прикольный трюк с cumsum. Посмотри на change_status. Если сделать по нему cumsum то эта сумма будет увеличиваться на один каждый раз когда клиент меняет статус Это и будет айдишка. И тут я снова использую что-то вроде оконной функции, чтобы эта айдишка была своя у каждого клиента."
      ]
    },
    {
      "cell_type": "code",
      "metadata": {
        "id": "m9lOZ_QjAiF-"
      },
      "source": [
        "report['session_id'] = (report.sort_values(by=['month'], ascending=True)\n",
        "                       .groupby(['CustomerID'])['change_status'].cumsum())"
      ],
      "execution_count": null,
      "outputs": []
    },
    {
      "cell_type": "code",
      "metadata": {
        "id": "A2EMigEhAwPA",
        "colab": {
          "base_uri": "https://localhost:8080/",
          "height": 650
        },
        "outputId": "cf0876a7-a22c-483d-8d83-2329aa5fb99d"
      },
      "source": [
        "report[report['CustomerID'] == 12347.0]"
      ],
      "execution_count": null,
      "outputs": [
        {
          "output_type": "execute_result",
          "data": {
            "text/html": [
              "<div>\n",
              "<style scoped>\n",
              "    .dataframe tbody tr th:only-of-type {\n",
              "        vertical-align: middle;\n",
              "    }\n",
              "\n",
              "    .dataframe tbody tr th {\n",
              "        vertical-align: top;\n",
              "    }\n",
              "\n",
              "    .dataframe thead th {\n",
              "        text-align: right;\n",
              "    }\n",
              "</style>\n",
              "<table border=\"1\" class=\"dataframe\">\n",
              "  <thead>\n",
              "    <tr style=\"text-align: right;\">\n",
              "      <th></th>\n",
              "      <th>month</th>\n",
              "      <th>key</th>\n",
              "      <th>CustomerID</th>\n",
              "      <th>reg_date</th>\n",
              "      <th>reg_month</th>\n",
              "      <th>revenue</th>\n",
              "      <th>user</th>\n",
              "      <th>new</th>\n",
              "      <th>active</th>\n",
              "      <th>active_prev</th>\n",
              "      <th>change_status</th>\n",
              "      <th>session_id</th>\n",
              "    </tr>\n",
              "  </thead>\n",
              "  <tbody>\n",
              "    <tr>\n",
              "      <th>1</th>\n",
              "      <td>2010-12-01</td>\n",
              "      <td>1</td>\n",
              "      <td>12347.0</td>\n",
              "      <td>2010-12-07 14:57:00</td>\n",
              "      <td>2010-12-01</td>\n",
              "      <td>711.79</td>\n",
              "      <td>1</td>\n",
              "      <td>1</td>\n",
              "      <td>1</td>\n",
              "      <td>NaN</td>\n",
              "      <td>1</td>\n",
              "      <td>1</td>\n",
              "    </tr>\n",
              "    <tr>\n",
              "      <th>951</th>\n",
              "      <td>2011-01-01</td>\n",
              "      <td>1</td>\n",
              "      <td>12347.0</td>\n",
              "      <td>2010-12-07 14:57:00</td>\n",
              "      <td>2010-12-01</td>\n",
              "      <td>475.39</td>\n",
              "      <td>1</td>\n",
              "      <td>0</td>\n",
              "      <td>1</td>\n",
              "      <td>1.0</td>\n",
              "      <td>0</td>\n",
              "      <td>1</td>\n",
              "    </tr>\n",
              "    <tr>\n",
              "      <th>2321</th>\n",
              "      <td>2011-02-01</td>\n",
              "      <td>1</td>\n",
              "      <td>12347.0</td>\n",
              "      <td>2010-12-07 14:57:00</td>\n",
              "      <td>2010-12-01</td>\n",
              "      <td>NaN</td>\n",
              "      <td>1</td>\n",
              "      <td>0</td>\n",
              "      <td>0</td>\n",
              "      <td>1.0</td>\n",
              "      <td>1</td>\n",
              "      <td>2</td>\n",
              "    </tr>\n",
              "    <tr>\n",
              "      <th>4071</th>\n",
              "      <td>2011-03-01</td>\n",
              "      <td>1</td>\n",
              "      <td>12347.0</td>\n",
              "      <td>2010-12-07 14:57:00</td>\n",
              "      <td>2010-12-01</td>\n",
              "      <td>NaN</td>\n",
              "      <td>1</td>\n",
              "      <td>0</td>\n",
              "      <td>0</td>\n",
              "      <td>0.0</td>\n",
              "      <td>0</td>\n",
              "      <td>2</td>\n",
              "    </tr>\n",
              "    <tr>\n",
              "      <th>6261</th>\n",
              "      <td>2011-04-01</td>\n",
              "      <td>1</td>\n",
              "      <td>12347.0</td>\n",
              "      <td>2010-12-07 14:57:00</td>\n",
              "      <td>2010-12-01</td>\n",
              "      <td>636.25</td>\n",
              "      <td>1</td>\n",
              "      <td>0</td>\n",
              "      <td>1</td>\n",
              "      <td>0.0</td>\n",
              "      <td>1</td>\n",
              "      <td>3</td>\n",
              "    </tr>\n",
              "    <tr>\n",
              "      <th>8750</th>\n",
              "      <td>2011-05-01</td>\n",
              "      <td>1</td>\n",
              "      <td>12347.0</td>\n",
              "      <td>2010-12-07 14:57:00</td>\n",
              "      <td>2010-12-01</td>\n",
              "      <td>NaN</td>\n",
              "      <td>1</td>\n",
              "      <td>0</td>\n",
              "      <td>0</td>\n",
              "      <td>1.0</td>\n",
              "      <td>1</td>\n",
              "      <td>4</td>\n",
              "    </tr>\n",
              "    <tr>\n",
              "      <th>11518</th>\n",
              "      <td>2011-06-01</td>\n",
              "      <td>1</td>\n",
              "      <td>12347.0</td>\n",
              "      <td>2010-12-07 14:57:00</td>\n",
              "      <td>2010-12-01</td>\n",
              "      <td>382.52</td>\n",
              "      <td>1</td>\n",
              "      <td>0</td>\n",
              "      <td>1</td>\n",
              "      <td>0.0</td>\n",
              "      <td>1</td>\n",
              "      <td>5</td>\n",
              "    </tr>\n",
              "    <tr>\n",
              "      <th>14521</th>\n",
              "      <td>2011-07-01</td>\n",
              "      <td>1</td>\n",
              "      <td>12347.0</td>\n",
              "      <td>2010-12-07 14:57:00</td>\n",
              "      <td>2010-12-01</td>\n",
              "      <td>NaN</td>\n",
              "      <td>1</td>\n",
              "      <td>0</td>\n",
              "      <td>0</td>\n",
              "      <td>1.0</td>\n",
              "      <td>1</td>\n",
              "      <td>6</td>\n",
              "    </tr>\n",
              "    <tr>\n",
              "      <th>17715</th>\n",
              "      <td>2011-08-01</td>\n",
              "      <td>1</td>\n",
              "      <td>12347.0</td>\n",
              "      <td>2010-12-07 14:57:00</td>\n",
              "      <td>2010-12-01</td>\n",
              "      <td>584.91</td>\n",
              "      <td>1</td>\n",
              "      <td>0</td>\n",
              "      <td>1</td>\n",
              "      <td>0.0</td>\n",
              "      <td>1</td>\n",
              "      <td>7</td>\n",
              "    </tr>\n",
              "    <tr>\n",
              "      <th>21076</th>\n",
              "      <td>2011-09-01</td>\n",
              "      <td>1</td>\n",
              "      <td>12347.0</td>\n",
              "      <td>2010-12-07 14:57:00</td>\n",
              "      <td>2010-12-01</td>\n",
              "      <td>NaN</td>\n",
              "      <td>1</td>\n",
              "      <td>0</td>\n",
              "      <td>0</td>\n",
              "      <td>1.0</td>\n",
              "      <td>1</td>\n",
              "      <td>8</td>\n",
              "    </tr>\n",
              "    <tr>\n",
              "      <th>24735</th>\n",
              "      <td>2011-10-01</td>\n",
              "      <td>1</td>\n",
              "      <td>12347.0</td>\n",
              "      <td>2010-12-07 14:57:00</td>\n",
              "      <td>2010-12-01</td>\n",
              "      <td>1294.32</td>\n",
              "      <td>1</td>\n",
              "      <td>0</td>\n",
              "      <td>1</td>\n",
              "      <td>0.0</td>\n",
              "      <td>1</td>\n",
              "      <td>9</td>\n",
              "    </tr>\n",
              "    <tr>\n",
              "      <th>28746</th>\n",
              "      <td>2011-11-01</td>\n",
              "      <td>1</td>\n",
              "      <td>12347.0</td>\n",
              "      <td>2010-12-07 14:57:00</td>\n",
              "      <td>2010-12-01</td>\n",
              "      <td>NaN</td>\n",
              "      <td>1</td>\n",
              "      <td>0</td>\n",
              "      <td>0</td>\n",
              "      <td>1.0</td>\n",
              "      <td>1</td>\n",
              "      <td>10</td>\n",
              "    </tr>\n",
              "    <tr>\n",
              "      <th>33078</th>\n",
              "      <td>2011-12-01</td>\n",
              "      <td>1</td>\n",
              "      <td>12347.0</td>\n",
              "      <td>2010-12-07 14:57:00</td>\n",
              "      <td>2010-12-01</td>\n",
              "      <td>224.82</td>\n",
              "      <td>1</td>\n",
              "      <td>0</td>\n",
              "      <td>1</td>\n",
              "      <td>0.0</td>\n",
              "      <td>1</td>\n",
              "      <td>11</td>\n",
              "    </tr>\n",
              "  </tbody>\n",
              "</table>\n",
              "</div>"
            ],
            "text/plain": [
              "           month  key  CustomerID  ... active_prev change_status  session_id\n",
              "1     2010-12-01    1     12347.0  ...         NaN             1           1\n",
              "951   2011-01-01    1     12347.0  ...         1.0             0           1\n",
              "2321  2011-02-01    1     12347.0  ...         1.0             1           2\n",
              "4071  2011-03-01    1     12347.0  ...         0.0             0           2\n",
              "6261  2011-04-01    1     12347.0  ...         0.0             1           3\n",
              "8750  2011-05-01    1     12347.0  ...         1.0             1           4\n",
              "11518 2011-06-01    1     12347.0  ...         0.0             1           5\n",
              "14521 2011-07-01    1     12347.0  ...         1.0             1           6\n",
              "17715 2011-08-01    1     12347.0  ...         0.0             1           7\n",
              "21076 2011-09-01    1     12347.0  ...         1.0             1           8\n",
              "24735 2011-10-01    1     12347.0  ...         0.0             1           9\n",
              "28746 2011-11-01    1     12347.0  ...         1.0             1          10\n",
              "33078 2011-12-01    1     12347.0  ...         0.0             1          11\n",
              "\n",
              "[13 rows x 12 columns]"
            ]
          },
          "metadata": {
            "tags": []
          },
          "execution_count": 62
        }
      ]
    },
    {
      "cell_type": "markdown",
      "metadata": {
        "id": "fvfkQLdGNOdJ"
      },
      "source": [
        "Отлично. Найди session_id 2. Видно, что в этой сессии клиент был неактивен два месяца. Теперь я могу просуммировать количество неактивных месяцов на каждую сессию"
      ]
    },
    {
      "cell_type": "code",
      "metadata": {
        "id": "496cRBVX_q9P"
      },
      "source": [
        "report['inactive'] = (report['active'] == 0) * 1"
      ],
      "execution_count": null,
      "outputs": []
    },
    {
      "cell_type": "code",
      "metadata": {
        "id": "hbHqMMMOBteU"
      },
      "source": [
        "report['month_inactive'] = (report.sort_values(by=['month'], ascending=True)\n",
        "                       .groupby(['CustomerID','session_id'])['inactive'].cumsum())"
      ],
      "execution_count": null,
      "outputs": []
    },
    {
      "cell_type": "markdown",
      "metadata": {
        "id": "QWKTDlzLN4x8"
      },
      "source": [
        "Посмотри на строку номер 4 (индекс 4067). В month_inactive получилось правильное количество месяцев когда клиент был неактивным. Проверь глазами."
      ]
    },
    {
      "cell_type": "code",
      "metadata": {
        "id": "V3IAj2EGB42q",
        "colab": {
          "base_uri": "https://localhost:8080/",
          "height": 889
        },
        "outputId": "0cd644bf-563f-4326-a0a8-51b771ea1bf3"
      },
      "source": [
        "report[report['CustomerID'] == 12347.0]"
      ],
      "execution_count": null,
      "outputs": [
        {
          "output_type": "execute_result",
          "data": {
            "text/html": [
              "<div>\n",
              "<style scoped>\n",
              "    .dataframe tbody tr th:only-of-type {\n",
              "        vertical-align: middle;\n",
              "    }\n",
              "\n",
              "    .dataframe tbody tr th {\n",
              "        vertical-align: top;\n",
              "    }\n",
              "\n",
              "    .dataframe thead th {\n",
              "        text-align: right;\n",
              "    }\n",
              "</style>\n",
              "<table border=\"1\" class=\"dataframe\">\n",
              "  <thead>\n",
              "    <tr style=\"text-align: right;\">\n",
              "      <th></th>\n",
              "      <th>month</th>\n",
              "      <th>key</th>\n",
              "      <th>CustomerID</th>\n",
              "      <th>reg_date</th>\n",
              "      <th>reg_month</th>\n",
              "      <th>revenue</th>\n",
              "      <th>user</th>\n",
              "      <th>new</th>\n",
              "      <th>active</th>\n",
              "      <th>active_prev</th>\n",
              "      <th>change_status</th>\n",
              "      <th>session_id</th>\n",
              "      <th>inactive</th>\n",
              "      <th>month_inactive</th>\n",
              "    </tr>\n",
              "  </thead>\n",
              "  <tbody>\n",
              "    <tr>\n",
              "      <th>1</th>\n",
              "      <td>2010-12-01</td>\n",
              "      <td>1</td>\n",
              "      <td>12347.0</td>\n",
              "      <td>2010-12-07 14:57:00</td>\n",
              "      <td>2010-12-01</td>\n",
              "      <td>711.79</td>\n",
              "      <td>1</td>\n",
              "      <td>1</td>\n",
              "      <td>1</td>\n",
              "      <td>NaN</td>\n",
              "      <td>1</td>\n",
              "      <td>1</td>\n",
              "      <td>0</td>\n",
              "      <td>0</td>\n",
              "    </tr>\n",
              "    <tr>\n",
              "      <th>951</th>\n",
              "      <td>2011-01-01</td>\n",
              "      <td>1</td>\n",
              "      <td>12347.0</td>\n",
              "      <td>2010-12-07 14:57:00</td>\n",
              "      <td>2010-12-01</td>\n",
              "      <td>475.39</td>\n",
              "      <td>1</td>\n",
              "      <td>0</td>\n",
              "      <td>1</td>\n",
              "      <td>1.0</td>\n",
              "      <td>0</td>\n",
              "      <td>1</td>\n",
              "      <td>0</td>\n",
              "      <td>0</td>\n",
              "    </tr>\n",
              "    <tr>\n",
              "      <th>2321</th>\n",
              "      <td>2011-02-01</td>\n",
              "      <td>1</td>\n",
              "      <td>12347.0</td>\n",
              "      <td>2010-12-07 14:57:00</td>\n",
              "      <td>2010-12-01</td>\n",
              "      <td>NaN</td>\n",
              "      <td>1</td>\n",
              "      <td>0</td>\n",
              "      <td>0</td>\n",
              "      <td>1.0</td>\n",
              "      <td>1</td>\n",
              "      <td>2</td>\n",
              "      <td>1</td>\n",
              "      <td>1</td>\n",
              "    </tr>\n",
              "    <tr>\n",
              "      <th>4071</th>\n",
              "      <td>2011-03-01</td>\n",
              "      <td>1</td>\n",
              "      <td>12347.0</td>\n",
              "      <td>2010-12-07 14:57:00</td>\n",
              "      <td>2010-12-01</td>\n",
              "      <td>NaN</td>\n",
              "      <td>1</td>\n",
              "      <td>0</td>\n",
              "      <td>0</td>\n",
              "      <td>0.0</td>\n",
              "      <td>0</td>\n",
              "      <td>2</td>\n",
              "      <td>1</td>\n",
              "      <td>2</td>\n",
              "    </tr>\n",
              "    <tr>\n",
              "      <th>6261</th>\n",
              "      <td>2011-04-01</td>\n",
              "      <td>1</td>\n",
              "      <td>12347.0</td>\n",
              "      <td>2010-12-07 14:57:00</td>\n",
              "      <td>2010-12-01</td>\n",
              "      <td>636.25</td>\n",
              "      <td>1</td>\n",
              "      <td>0</td>\n",
              "      <td>1</td>\n",
              "      <td>0.0</td>\n",
              "      <td>1</td>\n",
              "      <td>3</td>\n",
              "      <td>0</td>\n",
              "      <td>0</td>\n",
              "    </tr>\n",
              "    <tr>\n",
              "      <th>8750</th>\n",
              "      <td>2011-05-01</td>\n",
              "      <td>1</td>\n",
              "      <td>12347.0</td>\n",
              "      <td>2010-12-07 14:57:00</td>\n",
              "      <td>2010-12-01</td>\n",
              "      <td>NaN</td>\n",
              "      <td>1</td>\n",
              "      <td>0</td>\n",
              "      <td>0</td>\n",
              "      <td>1.0</td>\n",
              "      <td>1</td>\n",
              "      <td>4</td>\n",
              "      <td>1</td>\n",
              "      <td>1</td>\n",
              "    </tr>\n",
              "    <tr>\n",
              "      <th>11518</th>\n",
              "      <td>2011-06-01</td>\n",
              "      <td>1</td>\n",
              "      <td>12347.0</td>\n",
              "      <td>2010-12-07 14:57:00</td>\n",
              "      <td>2010-12-01</td>\n",
              "      <td>382.52</td>\n",
              "      <td>1</td>\n",
              "      <td>0</td>\n",
              "      <td>1</td>\n",
              "      <td>0.0</td>\n",
              "      <td>1</td>\n",
              "      <td>5</td>\n",
              "      <td>0</td>\n",
              "      <td>0</td>\n",
              "    </tr>\n",
              "    <tr>\n",
              "      <th>14521</th>\n",
              "      <td>2011-07-01</td>\n",
              "      <td>1</td>\n",
              "      <td>12347.0</td>\n",
              "      <td>2010-12-07 14:57:00</td>\n",
              "      <td>2010-12-01</td>\n",
              "      <td>NaN</td>\n",
              "      <td>1</td>\n",
              "      <td>0</td>\n",
              "      <td>0</td>\n",
              "      <td>1.0</td>\n",
              "      <td>1</td>\n",
              "      <td>6</td>\n",
              "      <td>1</td>\n",
              "      <td>1</td>\n",
              "    </tr>\n",
              "    <tr>\n",
              "      <th>17715</th>\n",
              "      <td>2011-08-01</td>\n",
              "      <td>1</td>\n",
              "      <td>12347.0</td>\n",
              "      <td>2010-12-07 14:57:00</td>\n",
              "      <td>2010-12-01</td>\n",
              "      <td>584.91</td>\n",
              "      <td>1</td>\n",
              "      <td>0</td>\n",
              "      <td>1</td>\n",
              "      <td>0.0</td>\n",
              "      <td>1</td>\n",
              "      <td>7</td>\n",
              "      <td>0</td>\n",
              "      <td>0</td>\n",
              "    </tr>\n",
              "    <tr>\n",
              "      <th>21076</th>\n",
              "      <td>2011-09-01</td>\n",
              "      <td>1</td>\n",
              "      <td>12347.0</td>\n",
              "      <td>2010-12-07 14:57:00</td>\n",
              "      <td>2010-12-01</td>\n",
              "      <td>NaN</td>\n",
              "      <td>1</td>\n",
              "      <td>0</td>\n",
              "      <td>0</td>\n",
              "      <td>1.0</td>\n",
              "      <td>1</td>\n",
              "      <td>8</td>\n",
              "      <td>1</td>\n",
              "      <td>1</td>\n",
              "    </tr>\n",
              "    <tr>\n",
              "      <th>24735</th>\n",
              "      <td>2011-10-01</td>\n",
              "      <td>1</td>\n",
              "      <td>12347.0</td>\n",
              "      <td>2010-12-07 14:57:00</td>\n",
              "      <td>2010-12-01</td>\n",
              "      <td>1294.32</td>\n",
              "      <td>1</td>\n",
              "      <td>0</td>\n",
              "      <td>1</td>\n",
              "      <td>0.0</td>\n",
              "      <td>1</td>\n",
              "      <td>9</td>\n",
              "      <td>0</td>\n",
              "      <td>0</td>\n",
              "    </tr>\n",
              "    <tr>\n",
              "      <th>28746</th>\n",
              "      <td>2011-11-01</td>\n",
              "      <td>1</td>\n",
              "      <td>12347.0</td>\n",
              "      <td>2010-12-07 14:57:00</td>\n",
              "      <td>2010-12-01</td>\n",
              "      <td>NaN</td>\n",
              "      <td>1</td>\n",
              "      <td>0</td>\n",
              "      <td>0</td>\n",
              "      <td>1.0</td>\n",
              "      <td>1</td>\n",
              "      <td>10</td>\n",
              "      <td>1</td>\n",
              "      <td>1</td>\n",
              "    </tr>\n",
              "    <tr>\n",
              "      <th>33078</th>\n",
              "      <td>2011-12-01</td>\n",
              "      <td>1</td>\n",
              "      <td>12347.0</td>\n",
              "      <td>2010-12-07 14:57:00</td>\n",
              "      <td>2010-12-01</td>\n",
              "      <td>224.82</td>\n",
              "      <td>1</td>\n",
              "      <td>0</td>\n",
              "      <td>1</td>\n",
              "      <td>0.0</td>\n",
              "      <td>1</td>\n",
              "      <td>11</td>\n",
              "      <td>0</td>\n",
              "      <td>0</td>\n",
              "    </tr>\n",
              "  </tbody>\n",
              "</table>\n",
              "</div>"
            ],
            "text/plain": [
              "           month  key  CustomerID  ... session_id inactive  month_inactive\n",
              "1     2010-12-01    1     12347.0  ...          1        0               0\n",
              "951   2011-01-01    1     12347.0  ...          1        0               0\n",
              "2321  2011-02-01    1     12347.0  ...          2        1               1\n",
              "4071  2011-03-01    1     12347.0  ...          2        1               2\n",
              "6261  2011-04-01    1     12347.0  ...          3        0               0\n",
              "8750  2011-05-01    1     12347.0  ...          4        1               1\n",
              "11518 2011-06-01    1     12347.0  ...          5        0               0\n",
              "14521 2011-07-01    1     12347.0  ...          6        1               1\n",
              "17715 2011-08-01    1     12347.0  ...          7        0               0\n",
              "21076 2011-09-01    1     12347.0  ...          8        1               1\n",
              "24735 2011-10-01    1     12347.0  ...          9        0               0\n",
              "28746 2011-11-01    1     12347.0  ...         10        1               1\n",
              "33078 2011-12-01    1     12347.0  ...         11        0               0\n",
              "\n",
              "[13 rows x 14 columns]"
            ]
          },
          "metadata": {
            "tags": []
          },
          "execution_count": 65
        }
      ]
    },
    {
      "cell_type": "markdown",
      "metadata": {
        "id": "c2ondAJcN28q"
      },
      "source": [
        "Теперь посчитаем саму метрику. Например количество клиентов которые были в оттоке (неактивны) в течении двух месяцев"
      ]
    },
    {
      "cell_type": "code",
      "metadata": {
        "id": "Tvp-T9jTG2al"
      },
      "source": [
        "report['churn_2m'] = (report['month_inactive'] >= 2) * 1"
      ],
      "execution_count": null,
      "outputs": []
    },
    {
      "cell_type": "code",
      "metadata": {
        "id": "pBXdhN3AHD-j",
        "colab": {
          "base_uri": "https://localhost:8080/",
          "height": 889
        },
        "outputId": "0db7778a-962a-4b9b-e354-a5b35ce2df56"
      },
      "source": [
        "report[report['CustomerID'] == 12347.0]"
      ],
      "execution_count": null,
      "outputs": [
        {
          "output_type": "execute_result",
          "data": {
            "text/html": [
              "<div>\n",
              "<style scoped>\n",
              "    .dataframe tbody tr th:only-of-type {\n",
              "        vertical-align: middle;\n",
              "    }\n",
              "\n",
              "    .dataframe tbody tr th {\n",
              "        vertical-align: top;\n",
              "    }\n",
              "\n",
              "    .dataframe thead th {\n",
              "        text-align: right;\n",
              "    }\n",
              "</style>\n",
              "<table border=\"1\" class=\"dataframe\">\n",
              "  <thead>\n",
              "    <tr style=\"text-align: right;\">\n",
              "      <th></th>\n",
              "      <th>month</th>\n",
              "      <th>key</th>\n",
              "      <th>CustomerID</th>\n",
              "      <th>reg_date</th>\n",
              "      <th>reg_month</th>\n",
              "      <th>revenue</th>\n",
              "      <th>user</th>\n",
              "      <th>new</th>\n",
              "      <th>active</th>\n",
              "      <th>active_prev</th>\n",
              "      <th>change_status</th>\n",
              "      <th>session_id</th>\n",
              "      <th>inactive</th>\n",
              "      <th>month_inactive</th>\n",
              "      <th>churn_2m</th>\n",
              "    </tr>\n",
              "  </thead>\n",
              "  <tbody>\n",
              "    <tr>\n",
              "      <th>1</th>\n",
              "      <td>2010-12-01</td>\n",
              "      <td>1</td>\n",
              "      <td>12347.0</td>\n",
              "      <td>2010-12-07 14:57:00</td>\n",
              "      <td>2010-12-01</td>\n",
              "      <td>711.79</td>\n",
              "      <td>1</td>\n",
              "      <td>1</td>\n",
              "      <td>1</td>\n",
              "      <td>NaN</td>\n",
              "      <td>1</td>\n",
              "      <td>1</td>\n",
              "      <td>0</td>\n",
              "      <td>0</td>\n",
              "      <td>0</td>\n",
              "    </tr>\n",
              "    <tr>\n",
              "      <th>951</th>\n",
              "      <td>2011-01-01</td>\n",
              "      <td>1</td>\n",
              "      <td>12347.0</td>\n",
              "      <td>2010-12-07 14:57:00</td>\n",
              "      <td>2010-12-01</td>\n",
              "      <td>475.39</td>\n",
              "      <td>1</td>\n",
              "      <td>0</td>\n",
              "      <td>1</td>\n",
              "      <td>1.0</td>\n",
              "      <td>0</td>\n",
              "      <td>1</td>\n",
              "      <td>0</td>\n",
              "      <td>0</td>\n",
              "      <td>0</td>\n",
              "    </tr>\n",
              "    <tr>\n",
              "      <th>2321</th>\n",
              "      <td>2011-02-01</td>\n",
              "      <td>1</td>\n",
              "      <td>12347.0</td>\n",
              "      <td>2010-12-07 14:57:00</td>\n",
              "      <td>2010-12-01</td>\n",
              "      <td>NaN</td>\n",
              "      <td>1</td>\n",
              "      <td>0</td>\n",
              "      <td>0</td>\n",
              "      <td>1.0</td>\n",
              "      <td>1</td>\n",
              "      <td>2</td>\n",
              "      <td>1</td>\n",
              "      <td>1</td>\n",
              "      <td>0</td>\n",
              "    </tr>\n",
              "    <tr>\n",
              "      <th>4071</th>\n",
              "      <td>2011-03-01</td>\n",
              "      <td>1</td>\n",
              "      <td>12347.0</td>\n",
              "      <td>2010-12-07 14:57:00</td>\n",
              "      <td>2010-12-01</td>\n",
              "      <td>NaN</td>\n",
              "      <td>1</td>\n",
              "      <td>0</td>\n",
              "      <td>0</td>\n",
              "      <td>0.0</td>\n",
              "      <td>0</td>\n",
              "      <td>2</td>\n",
              "      <td>1</td>\n",
              "      <td>2</td>\n",
              "      <td>1</td>\n",
              "    </tr>\n",
              "    <tr>\n",
              "      <th>6261</th>\n",
              "      <td>2011-04-01</td>\n",
              "      <td>1</td>\n",
              "      <td>12347.0</td>\n",
              "      <td>2010-12-07 14:57:00</td>\n",
              "      <td>2010-12-01</td>\n",
              "      <td>636.25</td>\n",
              "      <td>1</td>\n",
              "      <td>0</td>\n",
              "      <td>1</td>\n",
              "      <td>0.0</td>\n",
              "      <td>1</td>\n",
              "      <td>3</td>\n",
              "      <td>0</td>\n",
              "      <td>0</td>\n",
              "      <td>0</td>\n",
              "    </tr>\n",
              "    <tr>\n",
              "      <th>8750</th>\n",
              "      <td>2011-05-01</td>\n",
              "      <td>1</td>\n",
              "      <td>12347.0</td>\n",
              "      <td>2010-12-07 14:57:00</td>\n",
              "      <td>2010-12-01</td>\n",
              "      <td>NaN</td>\n",
              "      <td>1</td>\n",
              "      <td>0</td>\n",
              "      <td>0</td>\n",
              "      <td>1.0</td>\n",
              "      <td>1</td>\n",
              "      <td>4</td>\n",
              "      <td>1</td>\n",
              "      <td>1</td>\n",
              "      <td>0</td>\n",
              "    </tr>\n",
              "    <tr>\n",
              "      <th>11518</th>\n",
              "      <td>2011-06-01</td>\n",
              "      <td>1</td>\n",
              "      <td>12347.0</td>\n",
              "      <td>2010-12-07 14:57:00</td>\n",
              "      <td>2010-12-01</td>\n",
              "      <td>382.52</td>\n",
              "      <td>1</td>\n",
              "      <td>0</td>\n",
              "      <td>1</td>\n",
              "      <td>0.0</td>\n",
              "      <td>1</td>\n",
              "      <td>5</td>\n",
              "      <td>0</td>\n",
              "      <td>0</td>\n",
              "      <td>0</td>\n",
              "    </tr>\n",
              "    <tr>\n",
              "      <th>14521</th>\n",
              "      <td>2011-07-01</td>\n",
              "      <td>1</td>\n",
              "      <td>12347.0</td>\n",
              "      <td>2010-12-07 14:57:00</td>\n",
              "      <td>2010-12-01</td>\n",
              "      <td>NaN</td>\n",
              "      <td>1</td>\n",
              "      <td>0</td>\n",
              "      <td>0</td>\n",
              "      <td>1.0</td>\n",
              "      <td>1</td>\n",
              "      <td>6</td>\n",
              "      <td>1</td>\n",
              "      <td>1</td>\n",
              "      <td>0</td>\n",
              "    </tr>\n",
              "    <tr>\n",
              "      <th>17715</th>\n",
              "      <td>2011-08-01</td>\n",
              "      <td>1</td>\n",
              "      <td>12347.0</td>\n",
              "      <td>2010-12-07 14:57:00</td>\n",
              "      <td>2010-12-01</td>\n",
              "      <td>584.91</td>\n",
              "      <td>1</td>\n",
              "      <td>0</td>\n",
              "      <td>1</td>\n",
              "      <td>0.0</td>\n",
              "      <td>1</td>\n",
              "      <td>7</td>\n",
              "      <td>0</td>\n",
              "      <td>0</td>\n",
              "      <td>0</td>\n",
              "    </tr>\n",
              "    <tr>\n",
              "      <th>21076</th>\n",
              "      <td>2011-09-01</td>\n",
              "      <td>1</td>\n",
              "      <td>12347.0</td>\n",
              "      <td>2010-12-07 14:57:00</td>\n",
              "      <td>2010-12-01</td>\n",
              "      <td>NaN</td>\n",
              "      <td>1</td>\n",
              "      <td>0</td>\n",
              "      <td>0</td>\n",
              "      <td>1.0</td>\n",
              "      <td>1</td>\n",
              "      <td>8</td>\n",
              "      <td>1</td>\n",
              "      <td>1</td>\n",
              "      <td>0</td>\n",
              "    </tr>\n",
              "    <tr>\n",
              "      <th>24735</th>\n",
              "      <td>2011-10-01</td>\n",
              "      <td>1</td>\n",
              "      <td>12347.0</td>\n",
              "      <td>2010-12-07 14:57:00</td>\n",
              "      <td>2010-12-01</td>\n",
              "      <td>1294.32</td>\n",
              "      <td>1</td>\n",
              "      <td>0</td>\n",
              "      <td>1</td>\n",
              "      <td>0.0</td>\n",
              "      <td>1</td>\n",
              "      <td>9</td>\n",
              "      <td>0</td>\n",
              "      <td>0</td>\n",
              "      <td>0</td>\n",
              "    </tr>\n",
              "    <tr>\n",
              "      <th>28746</th>\n",
              "      <td>2011-11-01</td>\n",
              "      <td>1</td>\n",
              "      <td>12347.0</td>\n",
              "      <td>2010-12-07 14:57:00</td>\n",
              "      <td>2010-12-01</td>\n",
              "      <td>NaN</td>\n",
              "      <td>1</td>\n",
              "      <td>0</td>\n",
              "      <td>0</td>\n",
              "      <td>1.0</td>\n",
              "      <td>1</td>\n",
              "      <td>10</td>\n",
              "      <td>1</td>\n",
              "      <td>1</td>\n",
              "      <td>0</td>\n",
              "    </tr>\n",
              "    <tr>\n",
              "      <th>33078</th>\n",
              "      <td>2011-12-01</td>\n",
              "      <td>1</td>\n",
              "      <td>12347.0</td>\n",
              "      <td>2010-12-07 14:57:00</td>\n",
              "      <td>2010-12-01</td>\n",
              "      <td>224.82</td>\n",
              "      <td>1</td>\n",
              "      <td>0</td>\n",
              "      <td>1</td>\n",
              "      <td>0.0</td>\n",
              "      <td>1</td>\n",
              "      <td>11</td>\n",
              "      <td>0</td>\n",
              "      <td>0</td>\n",
              "      <td>0</td>\n",
              "    </tr>\n",
              "  </tbody>\n",
              "</table>\n",
              "</div>"
            ],
            "text/plain": [
              "           month  key  CustomerID  ... inactive month_inactive  churn_2m\n",
              "1     2010-12-01    1     12347.0  ...        0              0         0\n",
              "951   2011-01-01    1     12347.0  ...        0              0         0\n",
              "2321  2011-02-01    1     12347.0  ...        1              1         0\n",
              "4071  2011-03-01    1     12347.0  ...        1              2         1\n",
              "6261  2011-04-01    1     12347.0  ...        0              0         0\n",
              "8750  2011-05-01    1     12347.0  ...        1              1         0\n",
              "11518 2011-06-01    1     12347.0  ...        0              0         0\n",
              "14521 2011-07-01    1     12347.0  ...        1              1         0\n",
              "17715 2011-08-01    1     12347.0  ...        0              0         0\n",
              "21076 2011-09-01    1     12347.0  ...        1              1         0\n",
              "24735 2011-10-01    1     12347.0  ...        0              0         0\n",
              "28746 2011-11-01    1     12347.0  ...        1              1         0\n",
              "33078 2011-12-01    1     12347.0  ...        0              0         0\n",
              "\n",
              "[13 rows x 15 columns]"
            ]
          },
          "metadata": {
            "tags": []
          },
          "execution_count": 67
        }
      ]
    },
    {
      "cell_type": "markdown",
      "metadata": {
        "id": "zvAnDOm_ObzF"
      },
      "source": [
        "Отлично. Кстати с помощью этого метода (cumsum), можно считать пользовательские сессии -- может быть понадобиться тебе в будущем. Теперь сгруппируем на месяц."
      ]
    },
    {
      "cell_type": "code",
      "metadata": {
        "id": "4OGLRiS-HTBn"
      },
      "source": [
        "t = report.groupby('month')[['revenue','user','new','active','churn_2m']].agg('sum')"
      ],
      "execution_count": null,
      "outputs": []
    },
    {
      "cell_type": "code",
      "metadata": {
        "id": "22ziLQnnHy11",
        "colab": {
          "base_uri": "https://localhost:8080/",
          "height": 462
        },
        "outputId": "c2005c06-f287-49c3-c754-a9529d19047a"
      },
      "source": [
        "t"
      ],
      "execution_count": null,
      "outputs": [
        {
          "output_type": "execute_result",
          "data": {
            "text/html": [
              "<div>\n",
              "<style scoped>\n",
              "    .dataframe tbody tr th:only-of-type {\n",
              "        vertical-align: middle;\n",
              "    }\n",
              "\n",
              "    .dataframe tbody tr th {\n",
              "        vertical-align: top;\n",
              "    }\n",
              "\n",
              "    .dataframe thead th {\n",
              "        text-align: right;\n",
              "    }\n",
              "</style>\n",
              "<table border=\"1\" class=\"dataframe\">\n",
              "  <thead>\n",
              "    <tr style=\"text-align: right;\">\n",
              "      <th></th>\n",
              "      <th>revenue</th>\n",
              "      <th>user</th>\n",
              "      <th>new</th>\n",
              "      <th>active</th>\n",
              "      <th>churn_2m</th>\n",
              "    </tr>\n",
              "    <tr>\n",
              "      <th>month</th>\n",
              "      <th></th>\n",
              "      <th></th>\n",
              "      <th></th>\n",
              "      <th></th>\n",
              "      <th></th>\n",
              "    </tr>\n",
              "  </thead>\n",
              "  <tbody>\n",
              "    <tr>\n",
              "      <th>2010-12-01</th>\n",
              "      <td>748957.020</td>\n",
              "      <td>949</td>\n",
              "      <td>949</td>\n",
              "      <td>882</td>\n",
              "      <td>0</td>\n",
              "    </tr>\n",
              "    <tr>\n",
              "      <th>2011-01-01</th>\n",
              "      <td>560000.260</td>\n",
              "      <td>1370</td>\n",
              "      <td>421</td>\n",
              "      <td>737</td>\n",
              "      <td>55</td>\n",
              "    </tr>\n",
              "    <tr>\n",
              "      <th>2011-02-01</th>\n",
              "      <td>498062.650</td>\n",
              "      <td>1750</td>\n",
              "      <td>380</td>\n",
              "      <td>754</td>\n",
              "      <td>509</td>\n",
              "    </tr>\n",
              "    <tr>\n",
              "      <th>2011-03-01</th>\n",
              "      <td>683267.080</td>\n",
              "      <td>2190</td>\n",
              "      <td>440</td>\n",
              "      <td>969</td>\n",
              "      <td>749</td>\n",
              "    </tr>\n",
              "    <tr>\n",
              "      <th>2011-04-01</th>\n",
              "      <td>493207.121</td>\n",
              "      <td>2489</td>\n",
              "      <td>299</td>\n",
              "      <td>851</td>\n",
              "      <td>966</td>\n",
              "    </tr>\n",
              "    <tr>\n",
              "      <th>2011-05-01</th>\n",
              "      <td>723333.510</td>\n",
              "      <td>2768</td>\n",
              "      <td>279</td>\n",
              "      <td>1053</td>\n",
              "      <td>1225</td>\n",
              "    </tr>\n",
              "    <tr>\n",
              "      <th>2011-06-01</th>\n",
              "      <td>691123.120</td>\n",
              "      <td>3003</td>\n",
              "      <td>235</td>\n",
              "      <td>987</td>\n",
              "      <td>1367</td>\n",
              "    </tr>\n",
              "    <tr>\n",
              "      <th>2011-07-01</th>\n",
              "      <td>681300.111</td>\n",
              "      <td>3194</td>\n",
              "      <td>191</td>\n",
              "      <td>943</td>\n",
              "      <td>1619</td>\n",
              "    </tr>\n",
              "    <tr>\n",
              "      <th>2011-08-01</th>\n",
              "      <td>682680.510</td>\n",
              "      <td>3361</td>\n",
              "      <td>167</td>\n",
              "      <td>931</td>\n",
              "      <td>1871</td>\n",
              "    </tr>\n",
              "    <tr>\n",
              "      <th>2011-09-01</th>\n",
              "      <td>1019687.622</td>\n",
              "      <td>3659</td>\n",
              "      <td>298</td>\n",
              "      <td>1263</td>\n",
              "      <td>1883</td>\n",
              "    </tr>\n",
              "    <tr>\n",
              "      <th>2011-10-01</th>\n",
              "      <td>1070704.670</td>\n",
              "      <td>4011</td>\n",
              "      <td>352</td>\n",
              "      <td>1357</td>\n",
              "      <td>1872</td>\n",
              "    </tr>\n",
              "    <tr>\n",
              "      <th>2011-11-01</th>\n",
              "      <td>1461756.250</td>\n",
              "      <td>4332</td>\n",
              "      <td>321</td>\n",
              "      <td>1659</td>\n",
              "      <td>1932</td>\n",
              "    </tr>\n",
              "    <tr>\n",
              "      <th>2011-12-01</th>\n",
              "      <td>433668.010</td>\n",
              "      <td>4373</td>\n",
              "      <td>41</td>\n",
              "      <td>612</td>\n",
              "      <td>2470</td>\n",
              "    </tr>\n",
              "  </tbody>\n",
              "</table>\n",
              "</div>"
            ],
            "text/plain": [
              "                revenue  user  new  active  churn_2m\n",
              "month                                               \n",
              "2010-12-01   748957.020   949  949     882         0\n",
              "2011-01-01   560000.260  1370  421     737        55\n",
              "2011-02-01   498062.650  1750  380     754       509\n",
              "2011-03-01   683267.080  2190  440     969       749\n",
              "2011-04-01   493207.121  2489  299     851       966\n",
              "2011-05-01   723333.510  2768  279    1053      1225\n",
              "2011-06-01   691123.120  3003  235     987      1367\n",
              "2011-07-01   681300.111  3194  191     943      1619\n",
              "2011-08-01   682680.510  3361  167     931      1871\n",
              "2011-09-01  1019687.622  3659  298    1263      1883\n",
              "2011-10-01  1070704.670  4011  352    1357      1872\n",
              "2011-11-01  1461756.250  4332  321    1659      1932\n",
              "2011-12-01   433668.010  4373   41     612      2470"
            ]
          },
          "metadata": {
            "tags": []
          },
          "execution_count": 69
        }
      ]
    },
    {
      "cell_type": "markdown",
      "metadata": {
        "id": "pGX0KVZ6OjgN"
      },
      "source": [
        "Так же неплохо бы получить этот показатель в процентах. Выбор знаменателя зависит от того, как ты хочешь считать этот процент. Здесь я просто поделю их на текущее количество пользователей в этом месяце. Но можно например делать на количество пользователей два месяца назад (чтобы в знаменатель не попали новые клиенты)"
      ]
    },
    {
      "cell_type": "code",
      "metadata": {
        "id": "yz6kS8WbRedu"
      },
      "source": [
        "t['churn_2m%'] = t['churn_2m'] / t['user']"
      ],
      "execution_count": null,
      "outputs": []
    },
    {
      "cell_type": "code",
      "metadata": {
        "id": "O_u-aehARoKb",
        "colab": {
          "base_uri": "https://localhost:8080/",
          "height": 462
        },
        "outputId": "bbada9b0-2d93-488a-a8b1-5958febadd3b"
      },
      "source": [
        "t"
      ],
      "execution_count": null,
      "outputs": [
        {
          "output_type": "execute_result",
          "data": {
            "text/html": [
              "<div>\n",
              "<style scoped>\n",
              "    .dataframe tbody tr th:only-of-type {\n",
              "        vertical-align: middle;\n",
              "    }\n",
              "\n",
              "    .dataframe tbody tr th {\n",
              "        vertical-align: top;\n",
              "    }\n",
              "\n",
              "    .dataframe thead th {\n",
              "        text-align: right;\n",
              "    }\n",
              "</style>\n",
              "<table border=\"1\" class=\"dataframe\">\n",
              "  <thead>\n",
              "    <tr style=\"text-align: right;\">\n",
              "      <th></th>\n",
              "      <th>revenue</th>\n",
              "      <th>user</th>\n",
              "      <th>new</th>\n",
              "      <th>active</th>\n",
              "      <th>churn_2m</th>\n",
              "      <th>churn_2m%</th>\n",
              "    </tr>\n",
              "    <tr>\n",
              "      <th>month</th>\n",
              "      <th></th>\n",
              "      <th></th>\n",
              "      <th></th>\n",
              "      <th></th>\n",
              "      <th></th>\n",
              "      <th></th>\n",
              "    </tr>\n",
              "  </thead>\n",
              "  <tbody>\n",
              "    <tr>\n",
              "      <th>2010-12-01</th>\n",
              "      <td>748957.020</td>\n",
              "      <td>949</td>\n",
              "      <td>949</td>\n",
              "      <td>882</td>\n",
              "      <td>0</td>\n",
              "      <td>0.000000</td>\n",
              "    </tr>\n",
              "    <tr>\n",
              "      <th>2011-01-01</th>\n",
              "      <td>560000.260</td>\n",
              "      <td>1370</td>\n",
              "      <td>421</td>\n",
              "      <td>737</td>\n",
              "      <td>55</td>\n",
              "      <td>0.040146</td>\n",
              "    </tr>\n",
              "    <tr>\n",
              "      <th>2011-02-01</th>\n",
              "      <td>498062.650</td>\n",
              "      <td>1750</td>\n",
              "      <td>380</td>\n",
              "      <td>754</td>\n",
              "      <td>509</td>\n",
              "      <td>0.290857</td>\n",
              "    </tr>\n",
              "    <tr>\n",
              "      <th>2011-03-01</th>\n",
              "      <td>683267.080</td>\n",
              "      <td>2190</td>\n",
              "      <td>440</td>\n",
              "      <td>969</td>\n",
              "      <td>749</td>\n",
              "      <td>0.342009</td>\n",
              "    </tr>\n",
              "    <tr>\n",
              "      <th>2011-04-01</th>\n",
              "      <td>493207.121</td>\n",
              "      <td>2489</td>\n",
              "      <td>299</td>\n",
              "      <td>851</td>\n",
              "      <td>966</td>\n",
              "      <td>0.388108</td>\n",
              "    </tr>\n",
              "    <tr>\n",
              "      <th>2011-05-01</th>\n",
              "      <td>723333.510</td>\n",
              "      <td>2768</td>\n",
              "      <td>279</td>\n",
              "      <td>1053</td>\n",
              "      <td>1225</td>\n",
              "      <td>0.442558</td>\n",
              "    </tr>\n",
              "    <tr>\n",
              "      <th>2011-06-01</th>\n",
              "      <td>691123.120</td>\n",
              "      <td>3003</td>\n",
              "      <td>235</td>\n",
              "      <td>987</td>\n",
              "      <td>1367</td>\n",
              "      <td>0.455211</td>\n",
              "    </tr>\n",
              "    <tr>\n",
              "      <th>2011-07-01</th>\n",
              "      <td>681300.111</td>\n",
              "      <td>3194</td>\n",
              "      <td>191</td>\n",
              "      <td>943</td>\n",
              "      <td>1619</td>\n",
              "      <td>0.506888</td>\n",
              "    </tr>\n",
              "    <tr>\n",
              "      <th>2011-08-01</th>\n",
              "      <td>682680.510</td>\n",
              "      <td>3361</td>\n",
              "      <td>167</td>\n",
              "      <td>931</td>\n",
              "      <td>1871</td>\n",
              "      <td>0.556680</td>\n",
              "    </tr>\n",
              "    <tr>\n",
              "      <th>2011-09-01</th>\n",
              "      <td>1019687.622</td>\n",
              "      <td>3659</td>\n",
              "      <td>298</td>\n",
              "      <td>1263</td>\n",
              "      <td>1883</td>\n",
              "      <td>0.514621</td>\n",
              "    </tr>\n",
              "    <tr>\n",
              "      <th>2011-10-01</th>\n",
              "      <td>1070704.670</td>\n",
              "      <td>4011</td>\n",
              "      <td>352</td>\n",
              "      <td>1357</td>\n",
              "      <td>1872</td>\n",
              "      <td>0.466717</td>\n",
              "    </tr>\n",
              "    <tr>\n",
              "      <th>2011-11-01</th>\n",
              "      <td>1461756.250</td>\n",
              "      <td>4332</td>\n",
              "      <td>321</td>\n",
              "      <td>1659</td>\n",
              "      <td>1932</td>\n",
              "      <td>0.445983</td>\n",
              "    </tr>\n",
              "    <tr>\n",
              "      <th>2011-12-01</th>\n",
              "      <td>433668.010</td>\n",
              "      <td>4373</td>\n",
              "      <td>41</td>\n",
              "      <td>612</td>\n",
              "      <td>2470</td>\n",
              "      <td>0.564830</td>\n",
              "    </tr>\n",
              "  </tbody>\n",
              "</table>\n",
              "</div>"
            ],
            "text/plain": [
              "                revenue  user  new  active  churn_2m  churn_2m%\n",
              "month                                                          \n",
              "2010-12-01   748957.020   949  949     882         0   0.000000\n",
              "2011-01-01   560000.260  1370  421     737        55   0.040146\n",
              "2011-02-01   498062.650  1750  380     754       509   0.290857\n",
              "2011-03-01   683267.080  2190  440     969       749   0.342009\n",
              "2011-04-01   493207.121  2489  299     851       966   0.388108\n",
              "2011-05-01   723333.510  2768  279    1053      1225   0.442558\n",
              "2011-06-01   691123.120  3003  235     987      1367   0.455211\n",
              "2011-07-01   681300.111  3194  191     943      1619   0.506888\n",
              "2011-08-01   682680.510  3361  167     931      1871   0.556680\n",
              "2011-09-01  1019687.622  3659  298    1263      1883   0.514621\n",
              "2011-10-01  1070704.670  4011  352    1357      1872   0.466717\n",
              "2011-11-01  1461756.250  4332  321    1659      1932   0.445983\n",
              "2011-12-01   433668.010  4373   41     612      2470   0.564830"
            ]
          },
          "metadata": {
            "tags": []
          },
          "execution_count": 71
        }
      ]
    },
    {
      "cell_type": "markdown",
      "metadata": {
        "id": "mIvDC9KzMa-a"
      },
      "source": [
        "Это очень надежный метод для отчетов: ежедневный, еженедельный, ежемесячный. Если ты сгенеришь все возможные даты заранее, то никогда ничего не упустишь. Единственный минув этого метода -- он не маштабируемый. С миллионом клиентов кросс джоин захлебнется. И даже в sql он тоже не маштабируемый."
      ]
    },
    {
      "cell_type": "markdown",
      "metadata": {
        "id": "-Hg5dEh1TdeT"
      },
      "source": [
        "https://www.glebmikhaylov.com/"
      ]
    }
  ]
}